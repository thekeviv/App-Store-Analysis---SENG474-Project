{
  "nbformat": 4,
  "nbformat_minor": 0,
  "metadata": {
    "colab": {
      "name": "App Store Analysis.ipynb",
      "provenance": [],
      "collapsed_sections": []
    },
    "kernelspec": {
      "name": "python3",
      "display_name": "Python 3"
    },
    "accelerator": "GPU"
  },
  "cells": [
    {
      "cell_type": "markdown",
      "metadata": {
        "id": "imfWO5Ww9WUG",
        "colab_type": "text"
      },
      "source": [
        "# SENG 474 Project - Fall 2019\n",
        "\n",
        "Mai Mahmoud Ibraheam (V00947787)\n",
        "\n",
        "Vivek Sharma (V00904236)"
      ]
    },
    {
      "cell_type": "markdown",
      "metadata": {
        "id": "u0Ch12G39gwr",
        "colab_type": "text"
      },
      "source": [
        "For the project of Seng474, we will be analyzing a dataset we obtained from Kaggle. The dataset contains data on 17000 App store games. We want to analyze the data using the methods learnt in this class and try to draw same conclusions or discover patterns from this data. We also plan on creating various models using the algorithms learnt in this class to predict some of the attributes in the data. We will compare various models to see how they perform and will then try to improve their performance using techniques like regularization. We're using **Python, Numpy, Pandas, Matplotlib, and Pandas** in this notebook."
      ]
    },
    {
      "cell_type": "markdown",
      "metadata": {
        "id": "LLgnn1KylCp_",
        "colab_type": "text"
      },
      "source": [
        "## Problem Background"
      ]
    },
    {
      "cell_type": "markdown",
      "metadata": {
        "id": "GeyWtLZxlJwL",
        "colab_type": "text"
      },
      "source": [
        "With the launch of smartphone platforms, many new revenue sources were created and many old ones were revolutionized. New economies of apps and games were created for mobile devices and they now account for an estimated 120 billion dollars in revenue [1]. These markets are growing very fast with Sensor Tower predicting that the the app market sales will grow by a compound annual growth rate (CAGR) of 17% of by 2023 to reach $156 billion dollars [1]. This presents a big oppurtunity for the developers of the apps and games on the mobile platforms. \n",
        "\n",
        "There are 2 main mobile platform app stores today:\n",
        "\n",
        "1.   Apple App Store on iOS\n",
        "2.   Google Play Store on Web\n",
        "\n",
        "The app store format is in the form of a digital market place. The developers create an account on these digital marketplaces and then publish their apps and games there. Each app store has thousands of apps and games in various categories so to provide consumers a way of knowing the experiences of others with an app, the app stores implement a rating scheme. Each app/game is rated on a 1-5 scale withe 1 reflecting lowest and 5 reflecting highest rated app/game. The app stores then use these ratings along with various other metrics to move an app/game up or down in a list while showing it to the users. The users also mentally consider the apps rated higher to be superior before installing them. Hence the app ratings of can make or break the sales of an app. The developers spend thousands of hours in developing an app and their sales depend directly on these ratings. \n",
        "\n",
        "In this project, we aim to discover patterns which saperate high rated apps from low rated apps. We aim to discover if there are factors other than the content of the app which can lead to a higher rating in the app store or not. The dataset we're using to study this problem comes from Kaggle and is called 17k mobile starategy games. The dataset contains data of 17007 mobile strategy games and some apps from the Apple App Store [2]. According to the publisher, it was collected in August 2019 using the iTunes API and App Store Sitemap.\n",
        "\n",
        "Disovering patterns among the highly rated and lowly rated apps can be a valuable information for the developers of these apps who can use this information in the future to design apps in a way that they can get higher app ratings. This becomes especially important for development teams with small budgets since they often have lesser budgets and hence they can use this information to aim their resources more towards these key areas.  \n",
        "\n"
      ]
    },
    {
      "cell_type": "markdown",
      "metadata": {
        "id": "-WeUBIyP-P6W",
        "colab_type": "text"
      },
      "source": [
        "## 1.0 Data Exploration"
      ]
    },
    {
      "cell_type": "markdown",
      "metadata": {
        "id": "m_vlUqgY-XOX",
        "colab_type": "text"
      },
      "source": [
        "In this step, we analyze the data to get familiar with it. Exploring the data is the first and one of the most important step in a data science problem. By observing relationships in the data during data exploration, it can deliver some initial insights which can guide the later process of developing the models. The dataset used for this project has been stored in Google Drive so as to prevent uploading it again and again since this notebook was prepared in Google Colab. We use Google Drive's functions to bring data into our notebook. The data is in a csv format, so we first load it as a Pandas Dataframe. Pandas is a data manipulation library in Python which treats the data as series and dataframes similar to rows and tables and has various data manipulation and plotting capabilities built into it."
      ]
    },
    {
      "cell_type": "code",
      "metadata": {
        "id": "0f0P5kzI9Lsc",
        "colab_type": "code",
        "outputId": "2e989ed9-4778-4f42-aea9-41a36c9673fe",
        "colab": {
          "base_uri": "https://localhost:8080/",
          "height": 122
        }
      },
      "source": [
        "from google.colab import drive\n",
        "import os\n",
        "drive.mount('/content/drive', force_remount=True)"
      ],
      "execution_count": 0,
      "outputs": [
        {
          "output_type": "stream",
          "text": [
            "Go to this URL in a browser: https://accounts.google.com/o/oauth2/auth?client_id=947318989803-6bn6qk8qdgf4n4g3pfee6491hc0brc4i.apps.googleusercontent.com&redirect_uri=urn%3aietf%3awg%3aoauth%3a2.0%3aoob&response_type=code&scope=email%20https%3a%2f%2fwww.googleapis.com%2fauth%2fdocs.test%20https%3a%2f%2fwww.googleapis.com%2fauth%2fdrive%20https%3a%2f%2fwww.googleapis.com%2fauth%2fdrive.photos.readonly%20https%3a%2f%2fwww.googleapis.com%2fauth%2fpeopleapi.readonly\n",
            "\n",
            "Enter your authorization code:\n",
            "··········\n",
            "Mounted at /content/drive\n"
          ],
          "name": "stdout"
        }
      ]
    },
    {
      "cell_type": "code",
      "metadata": {
        "id": "CkHEY9E9_7D8",
        "colab_type": "code",
        "colab": {}
      },
      "source": [
        "#dataset_path = '/content/drive/My Drive/appstore_games.csv'\n",
        "dataset_path = 'appstore_games.csv'"
      ],
      "execution_count": 0,
      "outputs": []
    },
    {
      "cell_type": "code",
      "metadata": {
        "id": "Hb2Tj_dtAN-S",
        "colab_type": "code",
        "colab": {}
      },
      "source": [
        "import pandas as pd"
      ],
      "execution_count": 0,
      "outputs": []
    },
    {
      "cell_type": "code",
      "metadata": {
        "id": "ysumGkE2GEc3",
        "colab_type": "code",
        "colab": {}
      },
      "source": [
        "# Don't truncate data\n",
        "pd.set_option('display.max_columns', None)\n",
        "pd.set_option('display.max_rows', None)"
      ],
      "execution_count": 0,
      "outputs": []
    },
    {
      "cell_type": "code",
      "metadata": {
        "id": "85DVEHHtARjx",
        "colab_type": "code",
        "outputId": "34d94016-8928-42db-e569-38808d7e3d90",
        "colab": {
          "base_uri": "https://localhost:8080/",
          "height": 425
        }
      },
      "source": [
        "data = pd.read_csv(dataset_path)\n",
        "print(data.info())"
      ],
      "execution_count": 0,
      "outputs": [
        {
          "output_type": "stream",
          "text": [
            "<class 'pandas.core.frame.DataFrame'>\n",
            "RangeIndex: 17007 entries, 0 to 17006\n",
            "Data columns (total 18 columns):\n",
            "URL                             17007 non-null object\n",
            "ID                              17007 non-null int64\n",
            "Name                            17007 non-null object\n",
            "Subtitle                        5261 non-null object\n",
            "Icon URL                        17007 non-null object\n",
            "Average User Rating             7561 non-null float64\n",
            "User Rating Count               7561 non-null float64\n",
            "Price                           16983 non-null float64\n",
            "In-app Purchases                7683 non-null object\n",
            "Description                     17007 non-null object\n",
            "Developer                       17007 non-null object\n",
            "Age Rating                      17007 non-null object\n",
            "Languages                       16947 non-null object\n",
            "Size                            17006 non-null float64\n",
            "Primary Genre                   17007 non-null object\n",
            "Genres                          17007 non-null object\n",
            "Original Release Date           17007 non-null object\n",
            "Current Version Release Date    17007 non-null object\n",
            "dtypes: float64(4), int64(1), object(13)\n",
            "memory usage: 2.3+ MB\n",
            "None\n"
          ],
          "name": "stdout"
        }
      ]
    },
    {
      "cell_type": "markdown",
      "metadata": {
        "id": "ZiCzMzZZL29A",
        "colab_type": "text"
      },
      "source": [
        "### 1.1 Deal with missing entries"
      ]
    },
    {
      "cell_type": "markdown",
      "metadata": {
        "id": "t3SgjaE6Arbj",
        "colab_type": "text"
      },
      "source": [
        "We notice that the dataset has 17007 rows and has 18 columns for various attributes. On looking at the summary for columns, we can see that some of the columns don't have 17007 entries which means that the data in them is missing for some of the rows. We now inspect the rows which are having null entries to see the missing attributes in them. We do this so that we can make some conclusions on the quality of this data. To deal with the missing data, we can do various things depending upon the type of the data it represents. Most of the steps which can be taken to deal with missing data involve guessing the best candidates of entries which can be filled in place of the missing data. An example here could be that for a dataset on average heights of a plant, if we see that we're missing some of the entries and it can cause us problems, we can adopt a strategy like replacing the missing entries by average of that attribute or replacing the entries with the nearest value of that attribute and so on."
      ]
    },
    {
      "cell_type": "markdown",
      "metadata": {
        "id": "_8BN3a6LC-j8",
        "colab_type": "text"
      },
      "source": [
        "We notice that the data is missing subtitles, this can be because the app doesn't have a subtitle and may not impact our data quality as much. Since we won't be using Subtitle later in this notebook, we remove it to reduce effort to deal with missing data for Subtitle column.\n",
        "\n",
        "We also notice that we're missing many of the values for average user rating, user ratings count, Price, In-app Purchases and Languages. One of the goals of this project is to create a model which can help us deduce if there's a correlation between average rating and the price of the app or a correlation among various other attributes here. The missing values in these cases will pose us a challenge. So from here on, we create 2 datasets:\n",
        "\n",
        "\n",
        "\n",
        "1.   A dataset with all the rows containing null entries removed\n",
        "2.   A dataset with the rows containing null entries replaced by non-null entries.\n",
        "\n",
        "We will then also compare if doing the latter helped us improve our prediction performance or not.\n",
        "\n"
      ]
    },
    {
      "cell_type": "code",
      "metadata": {
        "id": "0FCQh5spCryp",
        "colab_type": "code",
        "outputId": "cbfa8f2c-d808-4507-b080-78d63cb022ac",
        "colab": {
          "base_uri": "https://localhost:8080/",
          "height": 952
        }
      },
      "source": [
        "print(data[data['Subtitle'].isnull()].head())"
      ],
      "execution_count": 0,
      "outputs": [
        {
          "output_type": "stream",
          "text": [
            "                                                 URL         ID  \\\n",
            "0   https://apps.apple.com/us/app/sudoku/id284921427  284921427   \n",
            "1  https://apps.apple.com/us/app/reversi/id284926400  284926400   \n",
            "2  https://apps.apple.com/us/app/morocco/id284946595  284946595   \n",
            "3  https://apps.apple.com/us/app/sudoku-free/id28...  285755462   \n",
            "4  https://apps.apple.com/us/app/senet-deluxe/id2...  285831220   \n",
            "\n",
            "            Name Subtitle                                           Icon URL  \\\n",
            "0         Sudoku      NaN  https://is2-ssl.mzstatic.com/image/thumb/Purpl...   \n",
            "1        Reversi      NaN  https://is4-ssl.mzstatic.com/image/thumb/Purpl...   \n",
            "2        Morocco      NaN  https://is5-ssl.mzstatic.com/image/thumb/Purpl...   \n",
            "3  Sudoku (Free)      NaN  https://is3-ssl.mzstatic.com/image/thumb/Purpl...   \n",
            "4   Senet Deluxe      NaN  https://is1-ssl.mzstatic.com/image/thumb/Purpl...   \n",
            "\n",
            "   Average User Rating  User Rating Count  Price In-app Purchases  \\\n",
            "0                  4.0             3553.0   2.99              NaN   \n",
            "1                  3.5              284.0   1.99              NaN   \n",
            "2                  3.0             8376.0   0.00              NaN   \n",
            "3                  3.5           190394.0   0.00              NaN   \n",
            "4                  3.5               28.0   2.99              NaN   \n",
            "\n",
            "                                         Description  \\\n",
            "0  Join over 21,000,000 of our fans and download ...   \n",
            "1  The classic game of Reversi, also known as Oth...   \n",
            "2  Play the classic strategy game Othello (also k...   \n",
            "3  Top 100 free app for over a year.\\nRated \"Best...   \n",
            "4  \"Senet Deluxe - The Ancient Game of Life and A...   \n",
            "\n",
            "                  Developer Age Rating  \\\n",
            "0  Mighty Mighty Good Games         4+   \n",
            "1          Kiss The Machine         4+   \n",
            "2               Bayou Games         4+   \n",
            "3  Mighty Mighty Good Games         4+   \n",
            "4           RoGame Software         4+   \n",
            "\n",
            "                                           Languages        Size  \\\n",
            "0  DA, NL, EN, FI, FR, DE, IT, JA, KO, NB, PL, PT...  15853568.0   \n",
            "1                                                 EN  12328960.0   \n",
            "2                                                 EN    674816.0   \n",
            "3  DA, NL, EN, FI, FR, DE, IT, JA, KO, NB, PL, PT...  21552128.0   \n",
            "4  DA, NL, EN, FR, DE, EL, IT, JA, KO, NO, PT, RU...  34689024.0   \n",
            "\n",
            "  Primary Genre                             Genres Original Release Date  \\\n",
            "0         Games            Games, Strategy, Puzzle            11/07/2008   \n",
            "1         Games             Games, Strategy, Board            11/07/2008   \n",
            "2         Games             Games, Board, Strategy            11/07/2008   \n",
            "3         Games            Games, Strategy, Puzzle            23/07/2008   \n",
            "4         Games  Games, Strategy, Board, Education            18/07/2008   \n",
            "\n",
            "  Current Version Release Date  \n",
            "0                   30/05/2017  \n",
            "1                   17/05/2018  \n",
            "2                    5/09/2017  \n",
            "3                   30/05/2017  \n",
            "4                   22/07/2018  \n"
          ],
          "name": "stdout"
        }
      ]
    },
    {
      "cell_type": "code",
      "metadata": {
        "id": "jimpMAjmFawm",
        "colab_type": "code",
        "colab": {}
      },
      "source": [
        "del data['Subtitle']"
      ],
      "execution_count": 0,
      "outputs": []
    },
    {
      "cell_type": "code",
      "metadata": {
        "id": "BXvQRbG4KeCR",
        "colab_type": "code",
        "colab": {}
      },
      "source": [
        "data_filled=data.copy()"
      ],
      "execution_count": 0,
      "outputs": []
    },
    {
      "cell_type": "code",
      "metadata": {
        "id": "d0aUTb1pHOpk",
        "colab_type": "code",
        "colab": {}
      },
      "source": [
        "data_filled['Average User Rating'].fillna(data['Average User Rating'].mean(), inplace=True)\n",
        "data_filled['User Rating Count'].fillna(data['User Rating Count'].mean(), inplace=True)\n",
        "data_filled['In-app Purchases'].fillna(0, inplace=True)\n",
        "data_filled['Price'].fillna(0, inplace=True)\n",
        "data_filled['Languages'].fillna(1, inplace=True)\n",
        "data_filled['Size'].fillna(data['Size'].mean(), inplace=True)"
      ],
      "execution_count": 0,
      "outputs": []
    },
    {
      "cell_type": "code",
      "metadata": {
        "id": "pLFP2pgvLnVU",
        "colab_type": "code",
        "colab": {}
      },
      "source": [
        "data = data.dropna(how='any',axis=0) "
      ],
      "execution_count": 0,
      "outputs": []
    },
    {
      "cell_type": "code",
      "metadata": {
        "id": "6p-ZaW_hLESt",
        "colab_type": "code",
        "outputId": "d9019d4e-0119-47c0-b3f5-bf32c185cae4",
        "colab": {
          "base_uri": "https://localhost:8080/",
          "height": 408
        }
      },
      "source": [
        "print(data.info())"
      ],
      "execution_count": 0,
      "outputs": [
        {
          "output_type": "stream",
          "text": [
            "<class 'pandas.core.frame.DataFrame'>\n",
            "Int64Index: 4618 entries, 5 to 16932\n",
            "Data columns (total 17 columns):\n",
            "URL                             4618 non-null object\n",
            "ID                              4618 non-null int64\n",
            "Name                            4618 non-null object\n",
            "Icon URL                        4618 non-null object\n",
            "Average User Rating             4618 non-null float64\n",
            "User Rating Count               4618 non-null float64\n",
            "Price                           4618 non-null float64\n",
            "In-app Purchases                4618 non-null object\n",
            "Description                     4618 non-null object\n",
            "Developer                       4618 non-null object\n",
            "Age Rating                      4618 non-null object\n",
            "Languages                       4618 non-null object\n",
            "Size                            4618 non-null float64\n",
            "Primary Genre                   4618 non-null object\n",
            "Genres                          4618 non-null object\n",
            "Original Release Date           4618 non-null object\n",
            "Current Version Release Date    4618 non-null object\n",
            "dtypes: float64(4), int64(1), object(12)\n",
            "memory usage: 649.4+ KB\n",
            "None\n"
          ],
          "name": "stdout"
        }
      ]
    },
    {
      "cell_type": "code",
      "metadata": {
        "id": "ayvLtfQsHFAq",
        "colab_type": "code",
        "outputId": "baba0cfe-142e-4cb6-e555-893fcee8421e",
        "colab": {
          "base_uri": "https://localhost:8080/",
          "height": 408
        }
      },
      "source": [
        "print(data_filled.info())"
      ],
      "execution_count": 0,
      "outputs": [
        {
          "output_type": "stream",
          "text": [
            "<class 'pandas.core.frame.DataFrame'>\n",
            "RangeIndex: 17007 entries, 0 to 17006\n",
            "Data columns (total 17 columns):\n",
            "URL                             17007 non-null object\n",
            "ID                              17007 non-null int64\n",
            "Name                            17007 non-null object\n",
            "Icon URL                        17007 non-null object\n",
            "Average User Rating             17007 non-null float64\n",
            "User Rating Count               17007 non-null float64\n",
            "Price                           17007 non-null float64\n",
            "In-app Purchases                17007 non-null object\n",
            "Description                     17007 non-null object\n",
            "Developer                       17007 non-null object\n",
            "Age Rating                      17007 non-null object\n",
            "Languages                       17007 non-null object\n",
            "Size                            17007 non-null float64\n",
            "Primary Genre                   17007 non-null object\n",
            "Genres                          17007 non-null object\n",
            "Original Release Date           17007 non-null object\n",
            "Current Version Release Date    17007 non-null object\n",
            "dtypes: float64(4), int64(1), object(12)\n",
            "memory usage: 2.2+ MB\n",
            "None\n"
          ],
          "name": "stdout"
        }
      ]
    },
    {
      "cell_type": "markdown",
      "metadata": {
        "id": "sKvC3bvaKscC",
        "colab_type": "text"
      },
      "source": [
        "So now we have 2 datasets:\n",
        "\n",
        "\n",
        "\n",
        "1.   data - all null entries are replaced with non null values\n",
        "2.   data_filled - all rows with null entries are removed\n",
        "\n"
      ]
    },
    {
      "cell_type": "markdown",
      "metadata": {
        "id": "BQtmXbu9MKMN",
        "colab_type": "text"
      },
      "source": [
        "### 1.2 Exploratory Data Analysis using Matplotlib and Pandas"
      ]
    },
    {
      "cell_type": "markdown",
      "metadata": {
        "id": "3FhGUTOnMSV2",
        "colab_type": "text"
      },
      "source": [
        "In this section, we try to learn some basic chatacteristics of the data by plotting graphs using Matplotlib. This will give us a better sense of the datasets we have."
      ]
    },
    {
      "cell_type": "code",
      "metadata": {
        "id": "YXh6srjGw_cX",
        "colab_type": "code",
        "colab": {}
      },
      "source": [
        "import matplotlib.pyplot as plt"
      ],
      "execution_count": 0,
      "outputs": []
    },
    {
      "cell_type": "markdown",
      "metadata": {
        "id": "yOkYSKt2xXkx",
        "colab_type": "text"
      },
      "source": [
        "Let's start by plotting Price, Size, Age Rating, User Ratings Count against the Average User Rating of an App to see if there is a correlation between any of them. Information gathered from this step will be used later in creating a model which predicts the rating of an app using these factors."
      ]
    },
    {
      "cell_type": "markdown",
      "metadata": {
        "id": "bkArxL3WGPyT",
        "colab_type": "text"
      },
      "source": [
        "#### 1.2.1 Price to Average User Ratings"
      ]
    },
    {
      "cell_type": "code",
      "metadata": {
        "id": "QAUACLVxw9aH",
        "colab_type": "code",
        "outputId": "a7af2878-14e3-4104-8e3d-aa6631823161",
        "colab": {
          "base_uri": "https://localhost:8080/",
          "height": 590
        }
      },
      "source": [
        "data.plot(kind='scatter', x='Price',  y='Average User Rating', xlim=(0, 100), title='Price v/s Avg User Rating for data with null entries removed')\n",
        "data_filled.plot(kind='scatter', x='Price',  y='Average User Rating', xlim=(0, 100), title='Price v/s Avg User Rating for data with null entries changed to non null')"
      ],
      "execution_count": 0,
      "outputs": [
        {
          "output_type": "execute_result",
          "data": {
            "text/plain": [
              "<matplotlib.axes._subplots.AxesSubplot at 0x7fa00b606b00>"
            ]
          },
          "metadata": {
            "tags": []
          },
          "execution_count": 15
        },
        {
          "output_type": "display_data",
          "data": {
            "image/png": "[encoded data removed]",
            "text/plain": [
              "<Figure size 432x288 with 1 Axes>"
            ]
          },
          "metadata": {
            "tags": []
          }
        },
        {
          "output_type": "display_data",
          "data": {
            "image/png": "[encoded data removed]",
            "text/plain": [
              "<Figure size 432x288 with 1 Axes>"
            ]
          },
          "metadata": {
            "tags": []
          }
        }
      ]
    },
    {
      "cell_type": "markdown",
      "metadata": {
        "id": "dOmisybEGYGB",
        "colab_type": "text"
      },
      "source": [
        "As we can see from the plots above, most of the Apps having a rating of 3 or higher tend to be less than $10 in price. There was no app having a perfect rating of 5 which had of price of over 16 dollars in the case where we removed the rows containing null entries. In the case where we did have did some feature engineering to replace the null entries by some manner, we still observe the same pattern however due to the noise introduced by feature engineering, apps having 5 start reviews tend to be priced lesser than 18 dollars. We also that apps over the 20 dollars price tend to recive a review rating of 4 or higher. This may signal the fact that more expensive apps tend to be rated higher and hence tend to be of a higher quality. \n",
        "\n",
        "We notice that the feature engineered data has some artifacts introduced into it. So in this case, the mean price may not be the best strategy for dealing with null entries. We will stick with it for no until we test the performance with other attributes as well."
      ]
    },
    {
      "cell_type": "markdown",
      "metadata": {
        "id": "yBMHUlSPIwXL",
        "colab_type": "text"
      },
      "source": [
        "#### 1.2.2 User Ratings Count to Average User Ratings"
      ]
    },
    {
      "cell_type": "code",
      "metadata": {
        "id": "YoLhWcJw0Kx2",
        "colab_type": "code",
        "outputId": "eb4b2a01-77fd-45fb-9074-55258e796909",
        "colab": {
          "base_uri": "https://localhost:8080/",
          "height": 590
        }
      },
      "source": [
        "data.plot(y='User Rating Count', x='Average User Rating', kind='scatter', title='User Rating Count v/s Avg User Rating for data with null entries removed')\n",
        "data_filled.plot(y='User Rating Count', x='Average User Rating', kind='scatter', title='User Rating Count v/s Avg User Rating for data with null entries changed to non null')"
      ],
      "execution_count": 0,
      "outputs": [
        {
          "output_type": "execute_result",
          "data": {
            "text/plain": [
              "<matplotlib.axes._subplots.AxesSubplot at 0x7fa0090bd160>"
            ]
          },
          "metadata": {
            "tags": []
          },
          "execution_count": 16
        },
        {
          "output_type": "display_data",
          "data": {
            "image/png": "[encoded data removed]",
            "text/plain": [
              "<Figure size 432x288 with 1 Axes>"
            ]
          },
          "metadata": {
            "tags": []
          }
        },
        {
          "output_type": "display_data",
          "data": {
            "image/png": "[encoded data removed]",
            "text/plain": [
              "<Figure size 432x288 with 1 Axes>"
            ]
          },
          "metadata": {
            "tags": []
          }
        }
      ]
    },
    {
      "cell_type": "markdown",
      "metadata": {
        "id": "vLojKaQ4JXw8",
        "colab_type": "text"
      },
      "source": [
        "If an App has a low number of ratings, it is possible that the extreme values in those ratings may dominate the rest of the ratings. As the number of ratings increase, the dominance of the edge cases will tend to disappear. So we expect the apps to be having a large number of ratings to have their average rating not be on one of the extremes and be somewhere in between them. As we can see from the charts above, apps with a 0 or 5 rating tend to have lower than 50,000 ratings. Apps with a higher number of ratings than that are rated 4. \n",
        "\n",
        "We also hypothesize that apps with higher number of ratings should also have a higher average rating. This could be attributed to the fact that more number of ratings would signal towards more users using that app which can be directly linked to that app being of a higher quality in some regard and hence a higher rating. As we can see from the chart above, this correlation seems to hold for this dataset. All apps with more than 20,000 ratings are rated 3.5 or higher. The apps with the highest number of ratings have an average rating of 4.5.\n",
        "\n",
        "In this case, there isn't much difference between the data with null entries removed and the data with null entries replaced with non null entries signalling our choice in this case to be good. A benefit to the second case is that we get more data on the non null attributes to work with."
      ]
    },
    {
      "cell_type": "markdown",
      "metadata": {
        "id": "LY1HSqNsMy8l",
        "colab_type": "text"
      },
      "source": [
        "#### 1.2.3 Size vs Average User Rating"
      ]
    },
    {
      "cell_type": "code",
      "metadata": {
        "id": "ZSNPlEMm1cKf",
        "colab_type": "code",
        "outputId": "25777abe-555e-4926-d753-dcbab401b119",
        "colab": {
          "base_uri": "https://localhost:8080/",
          "height": 590
        }
      },
      "source": [
        "data.plot(x='Size', y='Average User Rating', kind='scatter', title='Size v/s Avg User Rating for data with null entries removed')\n",
        "data_filled.plot(x='Size', y='Average User Rating', kind='scatter' ,title='Size v/s Avg User Rating for data with null entries replaced by non null entries')"
      ],
      "execution_count": 0,
      "outputs": [
        {
          "output_type": "execute_result",
          "data": {
            "text/plain": [
              "<matplotlib.axes._subplots.AxesSubplot at 0x7fa0090e6710>"
            ]
          },
          "metadata": {
            "tags": []
          },
          "execution_count": 17
        },
        {
          "output_type": "display_data",
          "data": {
            "image/png": "[encoded data removed]",
            "text/plain": [
              "<Figure size 432x288 with 1 Axes>"
            ]
          },
          "metadata": {
            "tags": []
          }
        },
        {
          "output_type": "display_data",
          "data": {
            "image/png": "[encoded data removed]",
            "text/plain": [
              "<Figure size 432x288 with 1 Axes>"
            ]
          },
          "metadata": {
            "tags": []
          }
        }
      ]
    },
    {
      "cell_type": "markdown",
      "metadata": {
        "id": "nO6eWQqbM8VW",
        "colab_type": "text"
      },
      "source": [
        "We hypothesize that apps which are bigger in size should receive a lower rating because the user will have to spend more mobile data to download it, it will take more of his storage on his device and and it will also take him longer to download and install thus leading to a sub-optimal experience. \n",
        "\n",
        "The data however doesn't support our hypothesis. On an adjusted basis by size, no app bigger than 0.8 size units received a rating of 2 or lower. In fact the apps which are of the biggest size received a rating of 4 or 5. This can be due to the fact that the bigger apps by size should have more content in them and since in this case, most of our apps are games, bigger games might be more engaging for the users. \n",
        "\n",
        "The feature engineering we did didn't seem to change data by much. This is an expected outcome since we only reduced the entries and size as an attribute wasn't having any null entries before."
      ]
    },
    {
      "cell_type": "markdown",
      "metadata": {
        "id": "8WEiVqtCyYdl",
        "colab_type": "text"
      },
      "source": [
        "#### 1.2.4 Genre vs Average Rating"
      ]
    },
    {
      "cell_type": "code",
      "metadata": {
        "id": "4S6FGTv-8cGO",
        "colab_type": "code",
        "outputId": "212d4a4a-f781-44ab-9d91-654405f47b7a",
        "colab": {
          "base_uri": "https://localhost:8080/",
          "height": 742
        }
      },
      "source": [
        "groups1 = data.groupby(['Primary Genre']).mean()\n",
        "groups1.plot(y='Average User Rating', title='Genre v/s Avg User Rating for data with null entries removed')\n",
        "plt.xticks(rotation=90)\n",
        "groups2 = data_filled.groupby(['Primary Genre']).mean()\n",
        "groups2.plot(y='Average User Rating', title='Genre v/s Avg User Rating for data with null entries replaced by non null entries')\n",
        "plt.xticks(rotation=90)"
      ],
      "execution_count": 0,
      "outputs": [
        {
          "output_type": "execute_result",
          "data": {
            "text/plain": [
              "(array([ 0. ,  2.5,  5. ,  7.5, 10. , 12.5, 15. , 17.5, 20. ]),\n",
              " <a list of 9 Text xticklabel objects>)"
            ]
          },
          "metadata": {
            "tags": []
          },
          "execution_count": 18
        },
        {
          "output_type": "display_data",
          "data": {
            "image/png": "[encoded data removed]",
            "text/plain": [
              "<Figure size 432x288 with 1 Axes>"
            ]
          },
          "metadata": {
            "tags": []
          }
        },
        {
          "output_type": "display_data",
          "data": {
            "image/png": "[encoded data removed]",
            "text/plain": [
              "<Figure size 432x288 with 1 Axes>"
            ]
          },
          "metadata": {
            "tags": []
          }
        }
      ]
    },
    {
      "cell_type": "markdown",
      "metadata": {
        "id": "sIbDLY8xysX8",
        "colab_type": "text"
      },
      "source": [
        "We expected that different genres will have different average ratings. We grouped the data by Genre and then plotted it against Average User rating. By making this plot, we made some interesting conclusions about the data. Firtly, apps from Education and Social Media genres seem to do very poorly in terms of reviews. This can mean a lackage of money spent on apps from these categories and hence we can conclude that companies making apps in these categories need to invest more in their apps. Apps from Health and Fitness genre are doing really good in terms of average ratings receiving overall the highest ratings throughout. Medical apps receive at an average a rating of 3 in the data with removed null entries. These apps can be improved as well."
      ]
    },
    {
      "cell_type": "markdown",
      "metadata": {
        "id": "RfICfFWDVeGK",
        "colab_type": "text"
      },
      "source": [
        "####1.2.5 Price vs Average User Rating"
      ]
    },
    {
      "cell_type": "code",
      "metadata": {
        "id": "WvjvaBULDoks",
        "colab_type": "code",
        "outputId": "a96ff09a-5fde-4c27-85e5-8bb4dc48fe39",
        "colab": {
          "base_uri": "https://localhost:8080/",
          "height": 625
        }
      },
      "source": [
        "groups1 = data.groupby(['Price']).mean()\n",
        "groups1.plot(y='Average User Rating', title='Price v/s Avg User Rating for data with null entries removed')\n",
        "plt.xticks(rotation=90)\n",
        "groups2 = data_filled.groupby(['Price']).mean()\n",
        "groups2.plot(y='Average User Rating', title='Title v/s Avg User Rating for data with null entries replaced with non null entries')\n",
        "plt.xticks(rotation=90)"
      ],
      "execution_count": 0,
      "outputs": [
        {
          "output_type": "execute_result",
          "data": {
            "text/plain": [
              "(array([  0.,  20.,  40.,  60.,  80., 100., 120., 140., 160., 180.]),\n",
              " <a list of 10 Text xticklabel objects>)"
            ]
          },
          "metadata": {
            "tags": []
          },
          "execution_count": 19
        },
        {
          "output_type": "display_data",
          "data": {
            "image/png": "[encoded data removed]",
            "text/plain": [
              "<Figure size 432x288 with 1 Axes>"
            ]
          },
          "metadata": {
            "tags": []
          }
        },
        {
          "output_type": "display_data",
          "data": {
            "image/png": "[encoded data removed]",
            "text/plain": [
              "<Figure size 432x288 with 1 Axes>"
            ]
          },
          "metadata": {
            "tags": []
          }
        }
      ]
    },
    {
      "cell_type": "markdown",
      "metadata": {
        "id": "7pedXhoBV8mx",
        "colab_type": "text"
      },
      "source": [
        "As we can see from the figure above, the ratings fluctuate for apps with price lower than 20 dollars. But once the app crosses the 20 dollar threshold, the ratings of the app increases linearly with an increase in price. Apps with the highest price have the highest rating as well. This it can be concluded that once the price of the app increases 20 dollars, the quality of an app increases linearly with an increase in price. We can also notice that apps priced around 10 dollars seem to receive the lowest ratings. \n",
        "\n",
        "By looking at the second map, we also notice that replacing the null entries with non null entries introduced a lot of noise in the dataset. This may mean that replacing rows having a null entry for price with the average price might not have been the best solution in this case."
      ]
    },
    {
      "cell_type": "markdown",
      "metadata": {
        "id": "LNcWv7yeXzEQ",
        "colab_type": "text"
      },
      "source": [
        "####1.2.6 Price v/s the Size of the App"
      ]
    },
    {
      "cell_type": "code",
      "metadata": {
        "id": "5Js1cUkXFmZI",
        "colab_type": "code",
        "outputId": "cb530212-cea2-48e6-8740-43abae82b705",
        "colab": {
          "base_uri": "https://localhost:8080/",
          "height": 625
        }
      },
      "source": [
        "groups1 = data.groupby(['Price']).mean()\n",
        "groups1.plot(y='Size', title='Price v/s Size for data with null entries removed')\n",
        "plt.xticks(rotation=90)\n",
        "groups2 = data_filled.groupby(['Price']).mean()\n",
        "groups2.plot(y='Size', title='Price v/s Size for data with null entries replaced with non null entries')\n",
        "plt.xticks(rotation=90)"
      ],
      "execution_count": 0,
      "outputs": [
        {
          "output_type": "execute_result",
          "data": {
            "text/plain": [
              "(array([  0.,  20.,  40.,  60.,  80., 100., 120., 140., 160., 180.]),\n",
              " <a list of 10 Text xticklabel objects>)"
            ]
          },
          "metadata": {
            "tags": []
          },
          "execution_count": 20
        },
        {
          "output_type": "display_data",
          "data": {
            "image/png": "[encoded data removed]",
            "text/plain": [
              "<Figure size 432x288 with 1 Axes>"
            ]
          },
          "metadata": {
            "tags": []
          }
        },
        {
          "output_type": "display_data",
          "data": {
            "image/png": "[encoded data removed]",
            "text/plain": [
              "<Figure size 432x288 with 1 Axes>"
            ]
          },
          "metadata": {
            "tags": []
          }
        }
      ]
    },
    {
      "cell_type": "markdown",
      "metadata": {
        "id": "1DfW_RKkXobi",
        "colab_type": "text"
      },
      "source": [
        "One last hypothesis we had was that there could be a relationship between the price and the size of an app as well. With an increase in the price of the app, we may expect the developing company to put more effort into the app's development and thus creating an app lower in size. From the charts, we do observe such a relationship. Once the price of an app increases over 20 dollars, the size of the app decreases linearly with price. Under 20 dollars however, we see some fluctuations in the app size with an increase in size however there seems to be a net increase in the size of the app. \n",
        "\n",
        "Again in this case, replacing the null entries with non null entries introduced a lot of noise into our data and the patterns observed in the data with null entries removed were not observed in that data."
      ]
    },
    {
      "cell_type": "markdown",
      "metadata": {
        "id": "k2chQI2rY5gZ",
        "colab_type": "text"
      },
      "source": [
        "##2.0 Data Mining for Classification and Regression"
      ]
    },
    {
      "cell_type": "markdown",
      "metadata": {
        "id": "QEIm9b0sZRe_",
        "colab_type": "text"
      },
      "source": [
        "In this section of the report, we aim at creating models which can predict some of the attributes in our data using the other attributes of it. Based on the exploratory data analysis done in the last section, we observed that some of the attributes had a direct correlation for our dataset. Although we didn't plot graphs with multiple attributes against a single attribute in the last section, we expect that using more attributes, we will be able to design models which better capture relationships among the various data attributes. For creating the models, we are using the inbuilt functions from scikit learn. The Genre attribute in our data is not in a binary or integer format so we one-hot encode the values in the genre column so that this can be used as a part of training as well. We one hot encode the genre attribute using the get_dummies function of Pandas."
      ]
    },
    {
      "cell_type": "markdown",
      "metadata": {
        "id": "5w0k-nvrquSc",
        "colab_type": "text"
      },
      "source": [
        "### 2.1 Models to predict the average app rating using various attrubutes (Regression Problem)"
      ]
    },
    {
      "cell_type": "markdown",
      "metadata": {
        "id": "LF8gWQMPbegK",
        "colab_type": "text"
      },
      "source": [
        "The first model we try to create in this report is a model which can predict the rating of an app. From our last section, we found price, number of user ratings, size, genre seemed to have a correlation with the app ratings. The app ratings are numbers on a continuois range in between 0 and 5. Based on this info, this is a regression problem where our goal would be to predict an app's rating based on the above attributes. This info can be used by app developers to design their apps in a way so as to maximize their app ratings. For this problem, we test various models and will pick the best with the best performance. We are using 75% of our data for training and will use 25% of our data to test our model's performance. We test the performance of all our models on both our datasets, the one with the null entry rows removed and the ones with null entry rows replaced by non null values. For the loss function, we make the choice of mean squared error here as our expected results ore continuous values and using mean squared error across all the models give us a tool to compare of various models on this data."
      ]
    },
    {
      "cell_type": "code",
      "metadata": {
        "id": "ClX06_GdewpT",
        "colab_type": "code",
        "colab": {}
      },
      "source": [
        "data_Y = data['Average User Rating']\n",
        "data_X = data.drop(['Average User Rating', 'URL', 'ID', 'Icon URL', 'In-app Purchases', 'Description', 'Developer', 'Age Rating', 'Languages', 'Genres', 'Original Release Date', 'Current Version Release Date', 'Name'], axis=1)"
      ],
      "execution_count": 0,
      "outputs": []
    },
    {
      "cell_type": "code",
      "metadata": {
        "id": "hsckaeTRb9HO",
        "colab_type": "code",
        "colab": {}
      },
      "source": [
        "data_Y_filled = data_filled['Average User Rating']\n",
        "data_X_filled = data_filled.drop(['Average User Rating', 'URL', 'ID', 'Icon URL', 'In-app Purchases', 'Description', 'Developer', 'Age Rating', 'Languages', 'Genres', 'Original Release Date', 'Current Version Release Date', 'Name'], axis=1)"
      ],
      "execution_count": 0,
      "outputs": []
    },
    {
      "cell_type": "code",
      "metadata": {
        "id": "D_Y1mD-pf09B",
        "colab_type": "code",
        "colab": {}
      },
      "source": [
        "# convert Primary Genre from object to One hot encoded values\n",
        "data_X = pd.concat([data_X.get(['User Rating Count','Price','Size']),\n",
        "                           pd.get_dummies(data_X['Primary Genre'], prefix='Primary Genre')],axis=1)"
      ],
      "execution_count": 0,
      "outputs": []
    },
    {
      "cell_type": "code",
      "metadata": {
        "id": "ZtD1ZUkgcInL",
        "colab_type": "code",
        "colab": {}
      },
      "source": [
        "# convert Primary Genre from object to One hot encoded values\n",
        "data_X_filled = pd.concat([data_X_filled.get(['User Rating Count','Price','Size']),\n",
        "                           pd.get_dummies(data_X_filled['Primary Genre'], prefix='Primary Genre')],axis=1)"
      ],
      "execution_count": 0,
      "outputs": []
    },
    {
      "cell_type": "code",
      "metadata": {
        "id": "jMbEKctimKrv",
        "colab_type": "code",
        "outputId": "03d1eb91-df52-45ac-c369-e65ccb265f98",
        "colab": {
          "base_uri": "https://localhost:8080/",
          "height": 391
        }
      },
      "source": [
        "print(data_X.keys())\n",
        "print(data_X_filled.keys())"
      ],
      "execution_count": 0,
      "outputs": [
        {
          "output_type": "stream",
          "text": [
            "Index(['User Rating Count', 'Price', 'Size', 'Primary Genre_Book',\n",
            "       'Primary Genre_Business', 'Primary Genre_Education',\n",
            "       'Primary Genre_Entertainment', 'Primary Genre_Finance',\n",
            "       'Primary Genre_Games', 'Primary Genre_Health & Fitness',\n",
            "       'Primary Genre_Lifestyle', 'Primary Genre_Medical',\n",
            "       'Primary Genre_News', 'Primary Genre_Productivity',\n",
            "       'Primary Genre_Reference', 'Primary Genre_Social Networking',\n",
            "       'Primary Genre_Sports', 'Primary Genre_Travel',\n",
            "       'Primary Genre_Utilities'],\n",
            "      dtype='object')\n",
            "Index(['User Rating Count', 'Price', 'Size', 'Primary Genre_Book',\n",
            "       'Primary Genre_Business', 'Primary Genre_Education',\n",
            "       'Primary Genre_Entertainment', 'Primary Genre_Finance',\n",
            "       'Primary Genre_Food & Drink', 'Primary Genre_Games',\n",
            "       'Primary Genre_Health & Fitness', 'Primary Genre_Lifestyle',\n",
            "       'Primary Genre_Medical', 'Primary Genre_Music',\n",
            "       'Primary Genre_Navigation', 'Primary Genre_News',\n",
            "       'Primary Genre_Productivity', 'Primary Genre_Reference',\n",
            "       'Primary Genre_Shopping', 'Primary Genre_Social Networking',\n",
            "       'Primary Genre_Sports', 'Primary Genre_Stickers',\n",
            "       'Primary Genre_Travel', 'Primary Genre_Utilities'],\n",
            "      dtype='object')\n"
          ],
          "name": "stdout"
        }
      ]
    },
    {
      "cell_type": "code",
      "metadata": {
        "id": "ovrZE11Ieht1",
        "colab_type": "code",
        "colab": {}
      },
      "source": [
        "from sklearn.model_selection import train_test_split\n",
        "X_train, X_test, y_train, y_test = train_test_split(data_X, data_Y, test_size=0.25, random_state=42)"
      ],
      "execution_count": 0,
      "outputs": []
    },
    {
      "cell_type": "code",
      "metadata": {
        "id": "4LthBzQLcVDJ",
        "colab_type": "code",
        "colab": {}
      },
      "source": [
        "X_train_filled, X_test_filled, y_train_filled, y_test_filled = train_test_split(data_X_filled, data_Y_filled, test_size=0.25, random_state=42)"
      ],
      "execution_count": 0,
      "outputs": []
    },
    {
      "cell_type": "markdown",
      "metadata": {
        "id": "iNK4-LH2dgsK",
        "colab_type": "text"
      },
      "source": [
        "#### 2.1.1 Decision Trees"
      ]
    },
    {
      "cell_type": "markdown",
      "metadata": {
        "id": "LdqWkd7ZandF",
        "colab_type": "text"
      },
      "source": [
        "We first start with decision trees. Decision Trees can be used for regression problems by making the nodes of the decision tree have numerical values. While making the prediction, if the value of the attribute being evaluated is lower than the value at the node, we can go left, or we can go right if it is higher than the value at that node. We expect decision trees to not perform very well in this case due to their simplicity. As we can see below, we get a very high loss for the data with null entry rows removed. Our loss goes down considerbly for data with null values replaced by non null values decreasing by 41.58%. This shows the strength of having more data while creating models since that gives the model more to learn from. Overall though, decision trees seem to have performed poorly on this regression problem."
      ]
    },
    {
      "cell_type": "code",
      "metadata": {
        "id": "v-DDZdmXhF07",
        "colab_type": "code",
        "outputId": "88e09cb6-6024-49c6-8d4f-648540afd761",
        "colab": {
          "base_uri": "https://localhost:8080/",
          "height": 34
        }
      },
      "source": [
        "from sklearn import tree\n",
        "import sklearn.metrics as metrics\n",
        "clf = tree.DecisionTreeRegressor()\n",
        "clf = clf.fit(X_train, y_train)\n",
        "predictions = clf.predict(X_test)\n",
        "dtree_mse = metrics.mean_squared_error(y_test, predictions)\n",
        "metrics.mean_squared_error(y_test, predictions) "
      ],
      "execution_count": 0,
      "outputs": [
        {
          "output_type": "execute_result",
          "data": {
            "text/plain": [
              "0.7950216450216451"
            ]
          },
          "metadata": {
            "tags": []
          },
          "execution_count": 28
        }
      ]
    },
    {
      "cell_type": "code",
      "metadata": {
        "id": "9YPrTXm7cgQP",
        "colab_type": "code",
        "outputId": "9786eaf8-0132-4fa8-cc1a-ac5cfef4629d",
        "colab": {
          "base_uri": "https://localhost:8080/",
          "height": 34
        }
      },
      "source": [
        "clf_filled = tree.DecisionTreeRegressor()\n",
        "clf_filled = clf_filled.fit(X_train_filled, y_train_filled)\n",
        "predictions = clf_filled.predict(X_test_filled)\n",
        "dtree_mse_filled = metrics.mean_squared_error(y_test_filled, predictions)\n",
        "metrics.mean_squared_error(y_test_filled, predictions) "
      ],
      "execution_count": 0,
      "outputs": [
        {
          "output_type": "execute_result",
          "data": {
            "text/plain": [
              "0.4575812816242726"
            ]
          },
          "metadata": {
            "tags": []
          },
          "execution_count": 29
        }
      ]
    },
    {
      "cell_type": "markdown",
      "metadata": {
        "id": "ZbodbTfjobyb",
        "colab_type": "text"
      },
      "source": [
        "#### 2.1.2 Linear Regression"
      ]
    },
    {
      "cell_type": "markdown",
      "metadata": {
        "id": "K1i7s8ckdebx",
        "colab_type": "text"
      },
      "source": [
        "We now move onto linear regression. In linear regression, we take the equation y=wx+b where y is the predicted outcome, x is the input data and w and b are parameteres we let the model learn by going over the data. The algorithm starts with random values for w and x and then goes over the data adjusting the values of w and b accordingly so that the predicted values end up being closer to the real outcomes. We expect linear regression to perform better than Decision trees on a given test data. Decision trees tend to overfit on data more than linear regression models and hence may not capture the patterns in it very well.\n",
        "\n",
        "As we see with our results, we improve the performance of for both our datasets. For the dataset with rows with null entries removed, our performance improves by 43.64% while for the data with null entries replaced by non null entries, our performance goes up by 44.85%. We again notice that having more data with null entries replaced considerably improved the performance of the model with the performance in this case going up by 42.9%."
      ]
    },
    {
      "cell_type": "code",
      "metadata": {
        "id": "b6kpHwz3h0jY",
        "colab_type": "code",
        "outputId": "a7d1a72a-b8eb-4425-d849-83a8d888610b",
        "colab": {
          "base_uri": "https://localhost:8080/",
          "height": 34
        }
      },
      "source": [
        "from sklearn.linear_model import LinearRegression\n",
        "reg = LinearRegression().fit(X_train, y_train)\n",
        "reg = reg.fit(X_train, y_train)\n",
        "predictions = reg.predict(X_test)\n",
        "lr_mse = metrics.mean_squared_error(y_test, predictions)\n",
        "metrics.mean_squared_error(y_test, predictions) "
      ],
      "execution_count": 0,
      "outputs": [
        {
          "output_type": "execute_result",
          "data": {
            "text/plain": [
              "0.44901797648680164"
            ]
          },
          "metadata": {
            "tags": []
          },
          "execution_count": 30
        }
      ]
    },
    {
      "cell_type": "code",
      "metadata": {
        "id": "wqk04FlbdM_D",
        "colab_type": "code",
        "outputId": "fe1234be-13c0-4b8d-c71a-f0c124d5caf5",
        "colab": {
          "base_uri": "https://localhost:8080/",
          "height": 34
        }
      },
      "source": [
        "reg = LinearRegression().fit(X_train_filled, y_train_filled)\n",
        "reg = reg.fit(X_train_filled, y_train_filled)\n",
        "predictions = reg.predict(X_test_filled)\n",
        "lr_mse_filled = metrics.mean_squared_error(y_test_filled, predictions)\n",
        "metrics.mean_squared_error(y_test_filled, predictions) "
      ],
      "execution_count": 0,
      "outputs": [
        {
          "output_type": "execute_result",
          "data": {
            "text/plain": [
              "0.2569599521235967"
            ]
          },
          "metadata": {
            "tags": []
          },
          "execution_count": 31
        }
      ]
    },
    {
      "cell_type": "markdown",
      "metadata": {
        "id": "UyUYULAPZpgD",
        "colab_type": "text"
      },
      "source": [
        "#### 2.1.3 Support Vector Machines"
      ]
    },
    {
      "cell_type": "markdown",
      "metadata": {
        "id": "LdL0NFsAPe4w",
        "colab_type": "text"
      },
      "source": [
        "We create another model for the problem and this time, we use support vector machines (SVM's). SVM's can be used for regression by taking the distance of the point from the saperation line. On this problem, SVM's perform a little better than the linear regression but the performance difference is very negligible. On this problem, SVM's show a loss which is lower than the one from the linear regression case by 1.3%. Again, in this case, the performance improves significantly when we use data with null entries replaced by non null entries."
      ]
    },
    {
      "cell_type": "code",
      "metadata": {
        "id": "cDwx-DPfaco2",
        "colab_type": "code",
        "outputId": "3c602a48-11ab-46ed-ff26-a52964893c86",
        "colab": {
          "base_uri": "https://localhost:8080/",
          "height": 34
        }
      },
      "source": [
        "from sklearn.svm import SVR\n",
        "clf = SVR(gamma='scale', C=1.0, epsilon=0.7)\n",
        "clf = clf.fit(X_train, y_train)\n",
        "predictions = clf.predict(X_test)\n",
        "svm_mse=metrics.mean_squared_error(y_test, predictions) \n",
        "metrics.mean_squared_error(y_test, predictions) "
      ],
      "execution_count": 0,
      "outputs": [
        {
          "output_type": "execute_result",
          "data": {
            "text/plain": [
              "0.44401691548177624"
            ]
          },
          "metadata": {
            "tags": []
          },
          "execution_count": 32
        }
      ]
    },
    {
      "cell_type": "code",
      "metadata": {
        "id": "QyAn3xdnafyQ",
        "colab_type": "code",
        "outputId": "62750f6c-2c67-4fb3-a0c7-bd88269ffad8",
        "colab": {
          "base_uri": "https://localhost:8080/",
          "height": 34
        }
      },
      "source": [
        "clf = SVR(gamma='scale', C=1.0, epsilon=0.7)\n",
        "clf = clf.fit(X_train_filled, y_train_filled)\n",
        "predictions = clf.predict(X_test_filled)\n",
        "svm_mse_filled=metrics.mean_squared_error(y_test_filled, predictions)\n",
        "metrics.mean_squared_error(y_test_filled, predictions) "
      ],
      "execution_count": 0,
      "outputs": [
        {
          "output_type": "execute_result",
          "data": {
            "text/plain": [
              "0.2715772586777781"
            ]
          },
          "metadata": {
            "tags": []
          },
          "execution_count": 33
        }
      ]
    },
    {
      "cell_type": "markdown",
      "metadata": {
        "id": "HU1tDV5HTdb9",
        "colab_type": "text"
      },
      "source": [
        "#### 2.1.4 Summary"
      ]
    },
    {
      "cell_type": "markdown",
      "metadata": {
        "id": "kmImNOY93rPD",
        "colab_type": "text"
      },
      "source": [
        "Below is a graph comparing the performance of the models on all the three models for both the 2 datasets. The plots are for mean square errors for the three models we prepared for the 3 datasets with lower loss being the better. As we can see, decision trees have the highest mean squared loss of the three and the performance is comparable for linear regression and SVM's. The filled data is performing better in all the cases as well"
      ]
    },
    {
      "cell_type": "code",
      "metadata": {
        "id": "6C6jl_GG4MQS",
        "colab_type": "code",
        "outputId": "a435c9a1-85bc-4c65-9995-4f91b00c7b57",
        "colab": {
          "base_uri": "https://localhost:8080/",
          "height": 297
        }
      },
      "source": [
        "import numpy as np\n",
        "n_groups = 3\n",
        "non_filled_performances = (dtree_mse, lr_mse, svm_mse)\n",
        "filled_performances = (dtree_mse_filled, lr_mse_filled, svm_mse_filled)\n",
        "fig, ax = plt.subplots()\n",
        "index = np.arange(n_groups)\n",
        "bar_width = 0.35\n",
        "opacity = 0.8\n",
        "\n",
        "rects1 = plt.bar(index, non_filled_performances, bar_width,\n",
        "alpha=opacity,\n",
        "color='b',\n",
        "label='Non Filled')\n",
        "\n",
        "rects2 = plt.bar(index + bar_width, filled_performances, bar_width,\n",
        "alpha=opacity,\n",
        "color='g',\n",
        "label='Filled')\n",
        "\n",
        "plt.xlabel('Models')\n",
        "plt.ylabel('Mean Squared Error')\n",
        "plt.title('Mean Squared Errors by Model')\n",
        "plt.xticks(index + bar_width, ('Decision Trees', 'Linear Regression', 'SVM'))\n",
        "plt.legend()\n",
        "\n",
        "plt.tight_layout()\n",
        "plt.show()\n"
      ],
      "execution_count": 0,
      "outputs": [
        {
          "output_type": "display_data",
          "data": {
            "image/png": "[encoded data removed]",
            "text/plain": [
              "<Figure size 432x288 with 1 Axes>"
            ]
          },
          "metadata": {
            "tags": []
          }
        }
      ]
    },
    {
      "cell_type": "markdown",
      "metadata": {
        "id": "6tXKuBEFU3A_",
        "colab_type": "text"
      },
      "source": [
        "### 2.2 Models to predict if the rating of an app will be higher than 3 or not (Classification Problem)"
      ]
    },
    {
      "cell_type": "markdown",
      "metadata": {
        "id": "P7TeKVYrWhoZ",
        "colab_type": "text"
      },
      "source": [
        "In this section, we now try to use the attributes of an app to see if we can classify an app into a 3 or 3+ rating app and a lesser than 3 rating app. This is a binary classification problem. We again create models for 2 datasets, data which has rows with null entries removed and data which has rows with null entries replaced with non null entries. We use User Ratings count, price, size and the Primary Genre to predict if the app will receive a rating of 3 or higher or not. Since the genre field is a string, we one hot encode it. We use 80% of the data for training and 20% for testing. We then use various metrics including accuracy, precision, confusion matrix, f1 score and also plot the roc curves to compare various models. "
      ]
    },
    {
      "cell_type": "code",
      "metadata": {
        "id": "LE4sksKEbvpd",
        "colab_type": "code",
        "colab": {}
      },
      "source": [
        "data_Y_2=data['Average User Rating']>=3.0\n",
        "data_Y_2 = data_Y_2.astype(int)\n",
        "data_X_2 = data.drop(['Average User Rating', 'URL', 'ID', 'Icon URL', 'In-app Purchases', 'Description', 'Developer', 'Age Rating', 'Languages', 'Genres', 'Original Release Date', 'Current Version Release Date', 'Name'], axis=1)\n",
        "data_Y_2_filled = data_filled['Average User Rating']>=3.0\n",
        "data_Y_2_filled = data_Y_2_filled.astype(int)\n",
        "data_X_2_filled = data_filled.drop(['Average User Rating', 'URL', 'ID', 'Icon URL', 'In-app Purchases', 'Description', 'Developer', 'Age Rating', 'Languages', 'Genres', 'Original Release Date', 'Current Version Release Date', 'Name'], axis=1)"
      ],
      "execution_count": 0,
      "outputs": []
    },
    {
      "cell_type": "code",
      "metadata": {
        "id": "_fQQnr1yjNka",
        "colab_type": "code",
        "colab": {}
      },
      "source": [
        "# convert Primary Genre from object to One hot encoded values\n",
        "data_X_2 = pd.concat([data_X_2.get(['User Rating Count','Price','Size']),\n",
        "                           pd.get_dummies(data_X_2['Primary Genre'], prefix='Primary Genre')],axis=1)"
      ],
      "execution_count": 0,
      "outputs": []
    },
    {
      "cell_type": "code",
      "metadata": {
        "id": "FZlZcyYDjeUy",
        "colab_type": "code",
        "colab": {}
      },
      "source": [
        "# convert Primary Genre from object to One hot encoded values\n",
        "data_X_2_filled = pd.concat([data_X_2_filled.get(['User Rating Count','Price','Size']),\n",
        "                           pd.get_dummies(data_X_2_filled['Primary Genre'], prefix='Primary Genre')],axis=1)"
      ],
      "execution_count": 0,
      "outputs": []
    },
    {
      "cell_type": "code",
      "metadata": {
        "id": "6-kQgJtXkTMN",
        "colab_type": "code",
        "colab": {}
      },
      "source": [
        "X_train_2, X_test_2, y_train_2, y_test_2 = train_test_split(data_X_2, data_Y_2, test_size=0.20, random_state=42)"
      ],
      "execution_count": 0,
      "outputs": []
    },
    {
      "cell_type": "code",
      "metadata": {
        "id": "HEcRMjkAkhl9",
        "colab_type": "code",
        "colab": {}
      },
      "source": [
        "X_train_2_filled, X_test_2_filled, y_train_2_filled, y_test_2_filled = train_test_split(data_X_2_filled, data_Y_2_filled, test_size=0.20, random_state=42)"
      ],
      "execution_count": 0,
      "outputs": []
    },
    {
      "cell_type": "markdown",
      "metadata": {
        "id": "2d-N4PNkjw77",
        "colab_type": "text"
      },
      "source": [
        "#### 2.2.1 Decision Trees"
      ]
    },
    {
      "cell_type": "markdown",
      "metadata": {
        "id": "iOh9PllCnG7O",
        "colab_type": "text"
      },
      "source": [
        "We start with decision trees. Decision trees seem to be performing quite well in most of these metrics. \n",
        " \n",
        "\n",
        "1.   Accuracy - The model acheives an accuracy of 91.12% on test data with null entries removed and acheives an accuracy of 93.88% on test data with null entries replaced by non null entries.\n",
        "2. Precision Score - The model scores a precision score of .9521 on test data with rows with null entries removed and a score of .9701 on test data with null entries replaced by non null entries.\n",
        "3. F1 Score - The model score an F1 score of .9532 on test data with rows with null entries removed and an F1 score of .9683 on test data with null entries replaced by non null entries.\n",
        "4. Recall Score - The model score an F1 score of .9543 on test data with rows with null entries removed and an F1 score of .9665 on test data with null entries replaced by non null entries.\n",
        "\n",
        "\n",
        "The confusion matrices and ROC Curves can be seen as below\n",
        "\n",
        "\n"
      ]
    },
    {
      "cell_type": "code",
      "metadata": {
        "id": "bcxz0NkekK0u",
        "colab_type": "code",
        "colab": {}
      },
      "source": [
        "clf = tree.DecisionTreeClassifier()\n",
        "clf = clf.fit(X_train_2, y_train_2)\n",
        "predictions = clf.predict(X_test_2)"
      ],
      "execution_count": 0,
      "outputs": []
    },
    {
      "cell_type": "code",
      "metadata": {
        "id": "OGEf_-1qoiV4",
        "colab_type": "code",
        "colab": {}
      },
      "source": [
        "clf_filled = tree.DecisionTreeClassifier()\n",
        "clf_filled = clf_filled.fit(X_train_2_filled, y_train_2_filled)\n",
        "predictions_filled = clf_filled.predict(X_test_2_filled) "
      ],
      "execution_count": 0,
      "outputs": []
    },
    {
      "cell_type": "markdown",
      "metadata": {
        "id": "PUNyBursljF1",
        "colab_type": "text"
      },
      "source": [
        "##### 2.2.1.1 Accuracy"
      ]
    },
    {
      "cell_type": "code",
      "metadata": {
        "id": "O_8b6h6Gk_D8",
        "colab_type": "code",
        "outputId": "d1621329-bb45-4e77-ee66-97d5c2f23d2d",
        "colab": {
          "base_uri": "https://localhost:8080/",
          "height": 51
        }
      },
      "source": [
        "dtree_accuracy = metrics.accuracy_score(y_test_2, predictions)\n",
        "dtree_filled_accuracy = metrics.accuracy_score(y_test_2_filled, predictions_filled)\n",
        "print('Accuracy for decision trees with rows with null entries removed is '+str(metrics.accuracy_score(y_test_2, predictions))) \n",
        "print('Accuracy for decision trees with rows with null entries replaced with non null entries is '+str(metrics.accuracy_score(y_test_2_filled, predictions_filled)))"
      ],
      "execution_count": 0,
      "outputs": [
        {
          "output_type": "stream",
          "text": [
            "Accuracy for decision trees with rows with null entries removed is 0.9090909090909091\n",
            "Accuracy for decision trees with rows with null entries replaced with non null entries is 0.9394473838918284\n"
          ],
          "name": "stdout"
        }
      ]
    },
    {
      "cell_type": "markdown",
      "metadata": {
        "id": "mvH4TvXBlomP",
        "colab_type": "text"
      },
      "source": [
        "##### 2.2.1.2 Precision Score"
      ]
    },
    {
      "cell_type": "code",
      "metadata": {
        "id": "6UWm-oLhlJu3",
        "colab_type": "code",
        "outputId": "cae8b30c-a933-4def-afca-609dfd1c357a",
        "colab": {
          "base_uri": "https://localhost:8080/",
          "height": 51
        }
      },
      "source": [
        "dtree_precision = metrics.precision_score(y_test_2, predictions)\n",
        "dtree_filled_precision = metrics.precision_score(y_test_2_filled, predictions_filled)\n",
        "print('Precision Score for decision trees with rows with null entries removed is '+str(metrics.precision_score(y_test_2, predictions))) \n",
        "print('Precision Score for decision trees with rows with null entries replaced with non null entries is '+str(metrics.precision_score(y_test_2_filled, predictions_filled)))"
      ],
      "execution_count": 0,
      "outputs": [
        {
          "output_type": "stream",
          "text": [
            "Precision Score for decision trees with rows with null entries removed is 0.9530892448512586\n",
            "Precision Score for decision trees with rows with null entries replaced with non null entries is 0.9701401584399756\n"
          ],
          "name": "stdout"
        }
      ]
    },
    {
      "cell_type": "markdown",
      "metadata": {
        "id": "t-fVKDPDlukY",
        "colab_type": "text"
      },
      "source": [
        "##### 2.2.1.3 F1 Score"
      ]
    },
    {
      "cell_type": "code",
      "metadata": {
        "id": "_ICXwsn3lSvM",
        "colab_type": "code",
        "outputId": "7d9fba14-b7fc-42b8-e8f7-6923ac41ded4",
        "colab": {
          "base_uri": "https://localhost:8080/",
          "height": 51
        }
      },
      "source": [
        "dtree_f1score = metrics.f1_score(y_test_2, predictions)\n",
        "dtree_filled_f1score = metrics.f1_score(y_test_2_filled, predictions_filled)\n",
        "print('F1 Score for decision trees with rows with null entries removed is '+str(metrics.f1_score(y_test_2, predictions))) \n",
        "print('F1 Score for decision trees with rows with null entries replaced with non null entries is '+str(metrics.f1_score(y_test_2_filled, predictions_filled)))"
      ],
      "execution_count": 0,
      "outputs": [
        {
          "output_type": "stream",
          "text": [
            "F1 Score for decision trees with rows with null entries removed is 0.9520000000000001\n",
            "F1 Score for decision trees with rows with null entries replaced with non null entries is 0.968664435655613\n"
          ],
          "name": "stdout"
        }
      ]
    },
    {
      "cell_type": "markdown",
      "metadata": {
        "id": "VodTpdNjl9SF",
        "colab_type": "text"
      },
      "source": [
        "##### 2.2.1.4 Recall Score"
      ]
    },
    {
      "cell_type": "code",
      "metadata": {
        "id": "p2Yrk2r4l5Ms",
        "colab_type": "code",
        "outputId": "f84bcd90-2b84-4b94-bce6-8965040604ad",
        "colab": {
          "base_uri": "https://localhost:8080/",
          "height": 51
        }
      },
      "source": [
        "dtree_recall = metrics.recall_score(y_test_2, predictions)\n",
        "dtree_filled_recall = metrics.recall_score(y_test_2_filled, predictions_filled)\n",
        "print('Recall Score for decision trees with rows with null entries removed is '+str(metrics.recall_score(y_test_2, predictions))) \n",
        "print('Recall Score for decision trees with rows with null entries replaced with non null entries is '+str(metrics.recall_score(y_test_2_filled, predictions_filled)))"
      ],
      "execution_count": 0,
      "outputs": [
        {
          "output_type": "stream",
          "text": [
            "Recall Score for decision trees with rows with null entries removed is 0.9509132420091324\n",
            "Recall Score for decision trees with rows with null entries replaced with non null entries is 0.9671931956257594\n"
          ],
          "name": "stdout"
        }
      ]
    },
    {
      "cell_type": "markdown",
      "metadata": {
        "id": "YFIHES2QmMYL",
        "colab_type": "text"
      },
      "source": [
        "##### 2.2.1.5 Confusion Matrix"
      ]
    },
    {
      "cell_type": "code",
      "metadata": {
        "id": "T13By_LimHEC",
        "colab_type": "code",
        "outputId": "212f26ba-8247-4a12-8924-b71bc918f035",
        "colab": {
          "base_uri": "https://localhost:8080/",
          "height": 85
        }
      },
      "source": [
        "print('Confusion Matrix for decision trees with rows with null entries removed is '+str(metrics.confusion_matrix(y_test_2, predictions))) \n",
        "print('Confusion Matrix for decision trees with rows with null entries replaced with non null entries is '+str(metrics.confusion_matrix(y_test_2_filled, predictions_filled)))"
      ],
      "execution_count": 0,
      "outputs": [
        {
          "output_type": "stream",
          "text": [
            "Confusion Matrix for decision trees with rows with null entries removed is [[  7  41]\n",
            " [ 43 833]]\n",
            "Confusion Matrix for decision trees with rows with null entries replaced with non null entries is [[  12   98]\n",
            " [ 108 3184]]\n"
          ],
          "name": "stdout"
        }
      ]
    },
    {
      "cell_type": "markdown",
      "metadata": {
        "id": "a-PYaG4fmW3_",
        "colab_type": "text"
      },
      "source": [
        "##### 2.2.1.6 ROC Curve"
      ]
    },
    {
      "cell_type": "code",
      "metadata": {
        "id": "5LkjNzOU26kG",
        "colab_type": "code",
        "outputId": "590640a8-dec2-46ac-9e1a-bd908cda6f42",
        "colab": {
          "base_uri": "https://localhost:8080/",
          "height": 573
        }
      },
      "source": [
        "from sklearn.metrics import auc\n",
        "fpr, tpr, thresholds = metrics.roc_curve(y_test_2, predictions)\n",
        "roc_auc = auc(fpr, tpr)\n",
        "plt.figure()\n",
        "plt.plot(fpr, tpr, lw=1, label='ROC curve (area = %0.2f)' % roc_auc)\n",
        "plt.plot([0, 1], [0, 1], color='navy', linestyle='--')\n",
        "plt.xlim([0.0, 1.0])\n",
        "plt.ylim([0.0, 1.05])\n",
        "plt.xlabel('False Positive Rate')\n",
        "plt.ylabel('True Positive Rate')\n",
        "plt.title('ROC for data with rows with null entries removed')\n",
        "\n",
        "fpr_2, tpr_2, thresholds_2 = metrics.roc_curve(y_test_2_filled, predictions_filled)\n",
        "roc_auc_2 = auc(fpr_2, tpr_2)\n",
        "plt.figure()\n",
        "plt.plot(fpr_2, tpr_2, lw=1, label='ROC curve (area = %0.2f)' % roc_auc)\n",
        "plt.plot([0, 1], [0, 1], color='navy', linestyle='--')\n",
        "plt.xlim([0.0, 1.0])\n",
        "plt.ylim([0.0, 1.05])\n",
        "plt.xlabel('False Positive Rate')\n",
        "plt.ylabel('True Positive Rate')\n",
        "plt.title('ROC for data with rows with null entries replaced by non null entries')\n",
        "plt.legend()\n",
        "plt.show()"
      ],
      "execution_count": 0,
      "outputs": [
        {
          "output_type": "display_data",
          "data": {
            "image/png": "[encoded data removed]",
            "text/plain": [
              "<Figure size 432x288 with 1 Axes>"
            ]
          },
          "metadata": {
            "tags": []
          }
        },
        {
          "output_type": "display_data",
          "data": {
            "image/png": "[encoded data removed]",
            "text/plain": [
              "<Figure size 432x288 with 1 Axes>"
            ]
          },
          "metadata": {
            "tags": []
          }
        }
      ]
    },
    {
      "cell_type": "markdown",
      "metadata": {
        "id": "gOSrezB5mve6",
        "colab_type": "text"
      },
      "source": [
        "#### 2.2.2 Linear Regression"
      ]
    },
    {
      "cell_type": "markdown",
      "metadata": {
        "id": "QRUSiAv4dXLR",
        "colab_type": "text"
      },
      "source": [
        "We then experiment with Linear regression classifier. The Linear regression classifier improves upon many of the metrics in comparision to the results we obtained with decision trees. A summary of the result is as follows: \n",
        " \n",
        "\n",
        "1.   Accuracy - The model acheives an accuracy of 94.80% on test data with null entries removed and acheives an accuracy of 96.76% on test data with null entries replaced by non null entries.\n",
        "2. Precision Score - The model scores a precision score of .9480 on test data with rows with null entries removed and a score of .9676 on test data with null entries replaced by non null entries.\n",
        "3. F1 Score - The model score an F1 score of .9733 on test data with rows with null entries removed and an F1 score of .9835 on test data with null entries replaced by non null entries.\n",
        "4. Recall Score - The model score an F1 score of 1.0 on test data with rows with null entries removed and an F1 score of 1.0 on test data with null entries replaced by non null entries.\n",
        "\n",
        "\n",
        "The confusion matrices and ROC Curves can be seen as below"
      ]
    },
    {
      "cell_type": "code",
      "metadata": {
        "id": "zedMOdsI6GN0",
        "colab_type": "code",
        "colab": {}
      },
      "source": [
        "from sklearn.linear_model import SGDClassifier\n",
        "reg = SGDClassifier(alpha=0.0001, average=False, class_weight=None,\n",
        "       early_stopping=False, epsilon=0.1, eta0=0.0)\n",
        "reg = reg.fit(X_train_2, y_train_2)\n",
        "predictions = reg.predict(X_test_2)"
      ],
      "execution_count": 0,
      "outputs": []
    },
    {
      "cell_type": "code",
      "metadata": {
        "id": "xh1Vffv-PkRZ",
        "colab_type": "code",
        "colab": {}
      },
      "source": [
        "reg_2 = SGDClassifier(alpha=0.0001, average=False, class_weight=None,\n",
        "       early_stopping=False, epsilon=0.1, eta0=0.0)\n",
        "reg_2 = reg_2.fit(X_train_2_filled, y_train_2_filled)\n",
        "predictions_filled = reg_2.predict(X_test_2_filled)"
      ],
      "execution_count": 0,
      "outputs": []
    },
    {
      "cell_type": "markdown",
      "metadata": {
        "id": "JPAZb_5PQ0fR",
        "colab_type": "text"
      },
      "source": [
        "##### 2.2.2.1 Accuracy"
      ]
    },
    {
      "cell_type": "code",
      "metadata": {
        "id": "iIyj1Y7xQ2rj",
        "colab_type": "code",
        "outputId": "1c64f60e-ee6f-48af-b537-bf1a07927144",
        "colab": {
          "base_uri": "https://localhost:8080/",
          "height": 51
        }
      },
      "source": [
        "lr_accuracy = metrics.accuracy_score(y_test_2, predictions)\n",
        "lr_filled_accuracy = metrics.accuracy_score(y_test_2_filled, predictions_filled)\n",
        "print('Accuracy for linear regression with rows with null entries removed is '+str(metrics.accuracy_score(y_test_2, predictions))) \n",
        "print('Accuracy for linear regression with rows with null entries replaced with non null entries is '+str(metrics.accuracy_score(y_test_2_filled, predictions_filled)))"
      ],
      "execution_count": 0,
      "outputs": [
        {
          "output_type": "stream",
          "text": [
            "Accuracy for linear regression with rows with null entries removed is 0.948051948051948\n",
            "Accuracy for linear regression with rows with null entries replaced with non null entries is 0.9676660787771899\n"
          ],
          "name": "stdout"
        }
      ]
    },
    {
      "cell_type": "markdown",
      "metadata": {
        "id": "qV2ykXipWs6x",
        "colab_type": "text"
      },
      "source": [
        "##### 2.2.2.2 Precision Score"
      ]
    },
    {
      "cell_type": "code",
      "metadata": {
        "id": "DPLxdptNWziS",
        "colab_type": "code",
        "outputId": "e58c451f-6114-423e-a68e-8c60031d6aef",
        "colab": {
          "base_uri": "https://localhost:8080/",
          "height": 51
        }
      },
      "source": [
        "lr_precision = metrics.precision_score(y_test_2, predictions)\n",
        "lr_filled_precision = metrics.precision_score(y_test_2_filled, predictions_filled)\n",
        "print('Precision Score for linear regression with rows with null entries removed is '+str(metrics.precision_score(y_test_2, predictions))) \n",
        "print('Precision Score for linear regression with rows with null entries replaced with non null entries is '+str(metrics.precision_score(y_test_2_filled, predictions_filled)))"
      ],
      "execution_count": 0,
      "outputs": [
        {
          "output_type": "stream",
          "text": [
            "Precision Score for linear regression with rows with null entries removed is 0.948051948051948\n",
            "Precision Score for linear regression with rows with null entries replaced with non null entries is 0.9676660787771899\n"
          ],
          "name": "stdout"
        }
      ]
    },
    {
      "cell_type": "markdown",
      "metadata": {
        "id": "7sxiOuCkW0Ih",
        "colab_type": "text"
      },
      "source": [
        "##### 2.2.2.3 F1 Score"
      ]
    },
    {
      "cell_type": "code",
      "metadata": {
        "id": "AX3npDoWW67i",
        "colab_type": "code",
        "outputId": "015f0336-bc9b-469a-b09b-07f4cd163393",
        "colab": {
          "base_uri": "https://localhost:8080/",
          "height": 51
        }
      },
      "source": [
        "lr_f1score = metrics.f1_score(y_test_2, predictions)\n",
        "lr_filled_f1score = metrics.f1_score(y_test_2_filled, predictions_filled)\n",
        "print('F1 Score for linear regression with rows with null entries removed is '+str(metrics.f1_score(y_test_2, predictions))) \n",
        "print('F1 Score for linear regression with rows with null entries replaced with non null entries is '+str(metrics.f1_score(y_test_2_filled, predictions_filled)))"
      ],
      "execution_count": 0,
      "outputs": [
        {
          "output_type": "stream",
          "text": [
            "F1 Score for linear regression with rows with null entries removed is 0.9733333333333333\n",
            "F1 Score for linear regression with rows with null entries replaced with non null entries is 0.983567373767553\n"
          ],
          "name": "stdout"
        }
      ]
    },
    {
      "cell_type": "markdown",
      "metadata": {
        "id": "eijcgvOVW5IY",
        "colab_type": "text"
      },
      "source": [
        "##### 2.2.2.4 Recall Score"
      ]
    },
    {
      "cell_type": "code",
      "metadata": {
        "id": "WhYZMeo_XAEF",
        "colab_type": "code",
        "outputId": "b89b4791-4ff0-4d87-8841-10f0cc0c01ea",
        "colab": {
          "base_uri": "https://localhost:8080/",
          "height": 51
        }
      },
      "source": [
        "lr_recall = metrics.recall_score(y_test_2, predictions)\n",
        "lr_filled_recall = metrics.recall_score(y_test_2_filled, predictions_filled)\n",
        "print('Recall Score for linear regression with rows with null entries removed is '+str(metrics.recall_score(y_test_2, predictions))) \n",
        "print('Recall Score for linear regression with rows with null entries replaced with non null entries is '+str(metrics.recall_score(y_test_2_filled, predictions_filled)))"
      ],
      "execution_count": 0,
      "outputs": [
        {
          "output_type": "stream",
          "text": [
            "Recall Score for linear regression with rows with null entries removed is 1.0\n",
            "Recall Score for linear regression with rows with null entries replaced with non null entries is 1.0\n"
          ],
          "name": "stdout"
        }
      ]
    },
    {
      "cell_type": "markdown",
      "metadata": {
        "id": "LCw4-LnGXAcw",
        "colab_type": "text"
      },
      "source": [
        "##### 2.2.2.5 Confusion Matrix"
      ]
    },
    {
      "cell_type": "code",
      "metadata": {
        "id": "5YNyzHGKXTjq",
        "colab_type": "code",
        "outputId": "4e36441e-d68f-4764-eca0-fb6f881ed031",
        "colab": {
          "base_uri": "https://localhost:8080/",
          "height": 85
        }
      },
      "source": [
        "print('Confusion Matrix for linear regression with rows with null entries removed is '+str(metrics.confusion_matrix(y_test_2, predictions))) \n",
        "print('Confusion Matrix for linear regression with rows with null entries replaced with non null entries is '+str(metrics.confusion_matrix(y_test_2_filled, predictions_filled)))"
      ],
      "execution_count": 0,
      "outputs": [
        {
          "output_type": "stream",
          "text": [
            "Confusion Matrix for linear regression with rows with null entries removed is [[  0  48]\n",
            " [  0 876]]\n",
            "Confusion Matrix for linear regression with rows with null entries replaced with non null entries is [[   0  110]\n",
            " [   0 3292]]\n"
          ],
          "name": "stdout"
        }
      ]
    },
    {
      "cell_type": "markdown",
      "metadata": {
        "id": "LGJJu8hLXT_X",
        "colab_type": "text"
      },
      "source": [
        "##### 2.2.2.6 ROC Curves"
      ]
    },
    {
      "cell_type": "code",
      "metadata": {
        "id": "IsjgYPhsXZF4",
        "colab_type": "code",
        "outputId": "aae2a376-645f-4422-8b92-386baa7db3e8",
        "colab": {
          "base_uri": "https://localhost:8080/",
          "height": 573
        }
      },
      "source": [
        "fpr, tpr, thresholds = metrics.roc_curve(y_test_2, predictions)\n",
        "roc_auc = auc(fpr, tpr)\n",
        "plt.figure()\n",
        "plt.plot(fpr, tpr, lw=1, label='ROC curve (area = %0.2f)' % roc_auc)\n",
        "plt.plot([0, 1], [0, 1], linestyle='--')\n",
        "plt.xlim([0.0, 1.0])\n",
        "plt.ylim([0.0, 1.05])\n",
        "plt.xlabel('False Positive Rate')\n",
        "plt.ylabel('True Positive Rate')\n",
        "plt.title('ROC for data with rows with null entries removed')\n",
        "\n",
        "fpr_2, tpr_2, thresholds_2 = metrics.roc_curve(y_test_2_filled, predictions_filled)\n",
        "roc_auc_2 = auc(fpr_2, tpr_2)\n",
        "plt.figure()\n",
        "plt.plot(fpr_2, tpr_2, lw=1, label='ROC curve (area = %0.2f)' % roc_auc)\n",
        "plt.plot([0, 1], [0, 1], linestyle='--')\n",
        "plt.xlim([0.0, 1.0])\n",
        "plt.ylim([0.0, 1.05])\n",
        "plt.xlabel('False Positive Rate')\n",
        "plt.ylabel('True Positive Rate')\n",
        "plt.title('ROC for data with rows with null entries replaced by non null entries')\n",
        "plt.legend()\n",
        "plt.show()"
      ],
      "execution_count": 0,
      "outputs": [
        {
          "output_type": "display_data",
          "data": {
            "image/png": "[encoded data removed]",
            "text/plain": [
              "<Figure size 432x288 with 1 Axes>"
            ]
          },
          "metadata": {
            "tags": []
          }
        },
        {
          "output_type": "display_data",
          "data": {
            "image/png": "[encoded data removed]",
            "text/plain": [
              "<Figure size 432x288 with 1 Axes>"
            ]
          },
          "metadata": {
            "tags": []
          }
        }
      ]
    },
    {
      "cell_type": "markdown",
      "metadata": {
        "id": "yPG1w_39Y7xF",
        "colab_type": "text"
      },
      "source": [
        "#### 2.2.3 Support Vector Machines (SVM's)"
      ]
    },
    {
      "cell_type": "markdown",
      "metadata": {
        "id": "5d7fCjVzeY_T",
        "colab_type": "text"
      },
      "source": [
        "Finally, we create a support vector machine classifier. The SVM classifier performs better than the Linear regression classifier but the performace differences are very small. Still overall, the SVM classifier performs the best on this problem in most of the metrics.\n",
        " \n",
        "\n",
        "1.   Accuracy - The model acheives an accuracy of 95.02% on test data with null entries removed and acheives an accuracy of 96.82% on test data with null entries replaced by non null entries.\n",
        "2. Precision Score - The model scores a precision score of .9501 on test data with rows with null entries removed and a score of .9682 on test data with null entries replaced by non null entries.\n",
        "3. F1 Score - The model score an F1 score of .9744 on test data with rows with null entries removed and an F1 score of .9838 on test data with null entries replaced by non null entries.\n",
        "4. Recall Score - The model score an F1 score of 1.0 on test data with rows with null entries removed and an F1 score of 1.0 on test data with null entries replaced by non null entries.\n",
        "\n",
        "\n",
        "The confusion matrices and ROC Curves can be seen as below"
      ]
    },
    {
      "cell_type": "code",
      "metadata": {
        "id": "Jebrp6c8ZdC3",
        "colab_type": "code",
        "colab": {}
      },
      "source": [
        "from sklearn.svm import SVC\n",
        "clf = SVC(gamma='auto')\n",
        "clf = clf.fit(X_train_2, y_train_2)\n",
        "predictions = clf.predict(X_test_2)"
      ],
      "execution_count": 0,
      "outputs": []
    },
    {
      "cell_type": "code",
      "metadata": {
        "id": "nk_u3VflaWj2",
        "colab_type": "code",
        "colab": {}
      },
      "source": [
        "clf_2 = SVC(gamma='auto')\n",
        "clf_2 = clf_2.fit(X_train_2_filled, y_train_2_filled)\n",
        "predictions_filled = clf_2.predict(X_test_2_filled)"
      ],
      "execution_count": 0,
      "outputs": []
    },
    {
      "cell_type": "markdown",
      "metadata": {
        "id": "I7HFdUCRbdZ6",
        "colab_type": "text"
      },
      "source": [
        "##### 2.2.3.1 Accuracy"
      ]
    },
    {
      "cell_type": "code",
      "metadata": {
        "id": "e9nCNXuEbgMQ",
        "colab_type": "code",
        "outputId": "cd8179ba-6ff5-45cb-e4f1-e482d0335cae",
        "colab": {
          "base_uri": "https://localhost:8080/",
          "height": 51
        }
      },
      "source": [
        "svm_accuracy = metrics.accuracy_score(y_test_2, predictions)\n",
        "svm_filled_accuracy = metrics.accuracy_score(y_test_2_filled, predictions_filled)\n",
        "print('Accuracy for SVM with rows with null entries removed is '+str(metrics.accuracy_score(y_test_2, predictions))) \n",
        "print('Accuracy for SVM with rows with null entries replaced with non null entries is '+str(metrics.accuracy_score(y_test_2_filled, predictions_filled)))"
      ],
      "execution_count": 0,
      "outputs": [
        {
          "output_type": "stream",
          "text": [
            "Accuracy for SVM with rows with null entries removed is 0.9502164502164502\n",
            "Accuracy for SVM with rows with null entries replaced with non null entries is 0.9682539682539683\n"
          ],
          "name": "stdout"
        }
      ]
    },
    {
      "cell_type": "markdown",
      "metadata": {
        "id": "YTCZwW_rbg_i",
        "colab_type": "text"
      },
      "source": [
        "##### 2.2.3.2 Precision Score"
      ]
    },
    {
      "cell_type": "code",
      "metadata": {
        "id": "_5PcR3aSbn1l",
        "colab_type": "code",
        "outputId": "08632db6-404b-4511-c9d6-b85edd86935b",
        "colab": {
          "base_uri": "https://localhost:8080/",
          "height": 51
        }
      },
      "source": [
        "svm_precision = metrics.precision_score(y_test_2, predictions)\n",
        "svm_filled_precision = metrics.precision_score(y_test_2_filled, predictions_filled)\n",
        "print('Precision Score for SVM with rows with null entries removed is '+str(metrics.precision_score(y_test_2, predictions))) \n",
        "print('Precision Score for SVM with rows with null entries replaced with non null entries is '+str(metrics.precision_score(y_test_2_filled, predictions_filled)))"
      ],
      "execution_count": 0,
      "outputs": [
        {
          "output_type": "stream",
          "text": [
            "Precision Score for SVM with rows with null entries removed is 0.9501084598698482\n",
            "Precision Score for SVM with rows with null entries replaced with non null entries is 0.9682352941176471\n"
          ],
          "name": "stdout"
        }
      ]
    },
    {
      "cell_type": "markdown",
      "metadata": {
        "id": "0oV7pvGpbnVN",
        "colab_type": "text"
      },
      "source": [
        "##### 2.2.3.3 F1 Score"
      ]
    },
    {
      "cell_type": "code",
      "metadata": {
        "id": "qgKWgVnubtHK",
        "colab_type": "code",
        "outputId": "d530bc4d-3234-4411-c469-36b0016a877f",
        "colab": {
          "base_uri": "https://localhost:8080/",
          "height": 51
        }
      },
      "source": [
        "svm_f1score = metrics.f1_score(y_test_2, predictions)\n",
        "svm_filled_f1score = metrics.f1_score(y_test_2_filled, predictions_filled)\n",
        "print('F1 Score for SVM with rows with null entries removed is '+str(metrics.f1_score(y_test_2, predictions))) \n",
        "print('F1 Score for SVM with rows with null entries replaced with non null entries is '+str(metrics.f1_score(y_test_2_filled, predictions_filled)))"
      ],
      "execution_count": 0,
      "outputs": [
        {
          "output_type": "stream",
          "text": [
            "F1 Score for SVM with rows with null entries removed is 0.9744160177975528\n",
            "F1 Score for SVM with rows with null entries replaced with non null entries is 0.9838613269575612\n"
          ],
          "name": "stdout"
        }
      ]
    },
    {
      "cell_type": "markdown",
      "metadata": {
        "id": "WLjzltK9bts8",
        "colab_type": "text"
      },
      "source": [
        "##### 2.2.3.4 Recall Score"
      ]
    },
    {
      "cell_type": "code",
      "metadata": {
        "id": "aVcsbnfQb1Kc",
        "colab_type": "code",
        "outputId": "747046ca-1c4b-41f8-d3d7-f852c9e9b248",
        "colab": {
          "base_uri": "https://localhost:8080/",
          "height": 51
        }
      },
      "source": [
        "svm_recall = metrics.recall_score(y_test_2, predictions)\n",
        "svm_filled_recall = metrics.recall_score(y_test_2_filled, predictions_filled)\n",
        "print('Recall Score for SVM with rows with null entries removed is '+str(metrics.recall_score(y_test_2, predictions))) \n",
        "print('Recall Score for SVM with rows with null entries replaced with non null entries is '+str(metrics.recall_score(y_test_2_filled, predictions_filled)))"
      ],
      "execution_count": 0,
      "outputs": [
        {
          "output_type": "stream",
          "text": [
            "Recall Score for SVM with rows with null entries removed is 1.0\n",
            "Recall Score for SVM with rows with null entries replaced with non null entries is 1.0\n"
          ],
          "name": "stdout"
        }
      ]
    },
    {
      "cell_type": "markdown",
      "metadata": {
        "id": "_xh53iHrb1nm",
        "colab_type": "text"
      },
      "source": [
        "##### 2.2.3.5 Confusion Matrix"
      ]
    },
    {
      "cell_type": "code",
      "metadata": {
        "id": "fEKgjzgCb_nG",
        "colab_type": "code",
        "outputId": "b3637ac2-cdc9-477d-c4f1-3dcd7a332a44",
        "colab": {
          "base_uri": "https://localhost:8080/",
          "height": 85
        }
      },
      "source": [
        "print('Confusion Matrix for SVM with rows with null entries removed is '+str(metrics.confusion_matrix(y_test_2, predictions))) \n",
        "print('Confusion Matrix for SVM with rows with null entries replaced with non null entries is '+str(metrics.confusion_matrix(y_test_2_filled, predictions_filled)))"
      ],
      "execution_count": 0,
      "outputs": [
        {
          "output_type": "stream",
          "text": [
            "Confusion Matrix for SVM with rows with null entries removed is [[  2  46]\n",
            " [  0 876]]\n",
            "Confusion Matrix for SVM with rows with null entries replaced with non null entries is [[   2  108]\n",
            " [   0 3292]]\n"
          ],
          "name": "stdout"
        }
      ]
    },
    {
      "cell_type": "markdown",
      "metadata": {
        "id": "dYyvMkNGcAN9",
        "colab_type": "text"
      },
      "source": [
        "##### 2.2.3.6 ROC Curves"
      ]
    },
    {
      "cell_type": "code",
      "metadata": {
        "id": "JTd5nuwOcMZB",
        "colab_type": "code",
        "outputId": "156510dc-714f-4626-a3cf-5f7d8e613a3e",
        "colab": {
          "base_uri": "https://localhost:8080/",
          "height": 573
        }
      },
      "source": [
        "fpr, tpr, thresholds = metrics.roc_curve(y_test_2, predictions)\n",
        "roc_auc = auc(fpr, tpr)\n",
        "plt.figure()\n",
        "plt.plot(fpr, tpr, lw=1, label='ROC curve (area = %0.2f)' % roc_auc)\n",
        "plt.plot([0, 1], [0, 1], linestyle='--')\n",
        "plt.xlim([0.0, 1.0])\n",
        "plt.ylim([0.0, 1.05])\n",
        "plt.xlabel('False Positive Rate')\n",
        "plt.ylabel('True Positive Rate')\n",
        "plt.title('ROC for data with rows with null entries removed')\n",
        "\n",
        "fpr_2, tpr_2, thresholds_2 = metrics.roc_curve(y_test_2_filled, predictions_filled)\n",
        "roc_auc_2 = auc(fpr_2, tpr_2)\n",
        "plt.figure()\n",
        "plt.plot(fpr_2, tpr_2, lw=1, label='ROC curve (area = %0.2f)' % roc_auc)\n",
        "plt.plot([0, 1], [0, 1], linestyle='--')\n",
        "plt.xlim([0.0, 1.0])\n",
        "plt.ylim([0.0, 1.05])\n",
        "plt.xlabel('False Positive Rate')\n",
        "plt.ylabel('True Positive Rate')\n",
        "plt.title('ROC for data with rows with null entries replaced by non null entries')\n",
        "plt.legend()\n",
        "plt.show()"
      ],
      "execution_count": 0,
      "outputs": [
        {
          "output_type": "display_data",
          "data": {
            "image/png": "[encoded data removed]",
            "text/plain": [
              "<Figure size 432x288 with 1 Axes>"
            ]
          },
          "metadata": {
            "tags": []
          }
        },
        {
          "output_type": "display_data",
          "data": {
            "image/png": "[encoded data removed]",
            "text/plain": [
              "<Figure size 432x288 with 1 Axes>"
            ]
          },
          "metadata": {
            "tags": []
          }
        }
      ]
    },
    {
      "cell_type": "markdown",
      "metadata": {
        "id": "jMqk5CkITSJ6",
        "colab_type": "text"
      },
      "source": [
        "#### 2.2.4 Summary"
      ]
    },
    {
      "cell_type": "markdown",
      "metadata": {
        "id": "VHFMHoooT12u",
        "colab_type": "text"
      },
      "source": [
        "Below are the plots comparing the performance across various metrics for the three models. "
      ]
    },
    {
      "cell_type": "markdown",
      "metadata": {
        "id": "bCBU6-iZT_oa",
        "colab_type": "text"
      },
      "source": [
        "##### 2.2.4.1 Accuracy"
      ]
    },
    {
      "cell_type": "markdown",
      "metadata": {
        "id": "x_UnZZGvVQW3",
        "colab_type": "text"
      },
      "source": [
        "As we can see, all the three models perform quite well with the SVM's and linear regression models slightly edging out the decision trees. The SVM's perform slightly better than the linear regression model. The models trained on filled data perform slightly better although this time, the difference is not that much for accuracy."
      ]
    },
    {
      "cell_type": "code",
      "metadata": {
        "id": "NdzLGSl8UH8q",
        "colab_type": "code",
        "outputId": "dc46ff8c-db41-40f0-a6af-65df04b867f4",
        "colab": {
          "base_uri": "https://localhost:8080/",
          "height": 297
        }
      },
      "source": [
        "import numpy as np\n",
        "n_groups = 3\n",
        "non_filled_performances = (dtree_accuracy, lr_accuracy, svm_accuracy)\n",
        "filled_performances = (dtree_filled_accuracy, lr_filled_accuracy, svm_filled_accuracy)\n",
        "fig, ax = plt.subplots()\n",
        "index = np.arange(n_groups)\n",
        "bar_width = 0.35\n",
        "opacity = 0.8\n",
        "\n",
        "rects1 = plt.bar(index, non_filled_performances, bar_width,\n",
        "alpha=opacity,\n",
        "color='b',\n",
        "label='Non Filled')\n",
        "\n",
        "rects2 = plt.bar(index + bar_width, filled_performances, bar_width,\n",
        "alpha=opacity,\n",
        "color='g',\n",
        "label='Filled')\n",
        "\n",
        "plt.xlabel('Models')\n",
        "plt.ylabel('Accuracy')\n",
        "plt.title('Accuracy by Model')\n",
        "plt.xticks(index + bar_width, ('Decision Trees', 'Linear Regression', 'SVM'))\n",
        "plt.legend()\n",
        "\n",
        "plt.tight_layout()\n",
        "plt.show()\n"
      ],
      "execution_count": 0,
      "outputs": [
        {
          "output_type": "display_data",
          "data": {
            "image/png": "[encoded data removed]",
            "text/plain": [
              "<Figure size 432x288 with 1 Axes>"
            ]
          },
          "metadata": {
            "tags": []
          }
        }
      ]
    },
    {
      "cell_type": "markdown",
      "metadata": {
        "id": "sJF-qe9sVv6G",
        "colab_type": "text"
      },
      "source": [
        "##### 2.2.4.2 Precision"
      ]
    },
    {
      "cell_type": "markdown",
      "metadata": {
        "id": "IcmCcNltW1Dw",
        "colab_type": "text"
      },
      "source": [
        "All the 3 models perform relatively the same for precision metric. The difference between the precision of models trained on filled and non filled data is also very close for all the three models although the models trained on filled data slightly edge out the models trained with missing data removed"
      ]
    },
    {
      "cell_type": "code",
      "metadata": {
        "id": "te1YLq6uVyXs",
        "colab_type": "code",
        "outputId": "3e384a3b-e0c2-4715-f143-145fbeca1620",
        "colab": {
          "base_uri": "https://localhost:8080/",
          "height": 297
        }
      },
      "source": [
        "import numpy as np\n",
        "n_groups = 3\n",
        "non_filled_performances = (dtree_precision, lr_precision, svm_precision)\n",
        "filled_performances = (dtree_filled_precision, lr_filled_precision, svm_filled_precision)\n",
        "fig, ax = plt.subplots()\n",
        "index = np.arange(n_groups)\n",
        "bar_width = 0.35\n",
        "opacity = 0.8\n",
        "\n",
        "rects1 = plt.bar(index, non_filled_performances, bar_width,\n",
        "alpha=opacity,\n",
        "color='b',\n",
        "label='Non Filled')\n",
        "\n",
        "rects2 = plt.bar(index + bar_width, filled_performances, bar_width,\n",
        "alpha=opacity,\n",
        "color='g',\n",
        "label='Filled')\n",
        "\n",
        "plt.xlabel('Models')\n",
        "plt.ylabel('Precision')\n",
        "plt.title('Precision by Model')\n",
        "plt.xticks(index + bar_width, ('Decision Trees', 'Linear Regression', 'SVM'))\n",
        "plt.legend()\n",
        "\n",
        "plt.tight_layout()\n",
        "plt.show()\n"
      ],
      "execution_count": 0,
      "outputs": [
        {
          "output_type": "display_data",
          "data": {
            "image/png": "[encoded data removed]",
            "text/plain": [
              "<Figure size 432x288 with 1 Axes>"
            ]
          },
          "metadata": {
            "tags": []
          }
        }
      ]
    },
    {
      "cell_type": "markdown",
      "metadata": {
        "id": "RfgzD3y8cq5w",
        "colab_type": "text"
      },
      "source": [
        "##### 2.2.4.3 F1 Score"
      ]
    },
    {
      "cell_type": "markdown",
      "metadata": {
        "id": "99X0Z6Kscs7k",
        "colab_type": "text"
      },
      "source": [
        "The results here are again in line with the performances of the other models with linear regression and SVM models performing better than the decision trees. The difference between their individual performances doesn't vary by a lot and a similar trend is also observed for models trained on filled and non filled data with their performances varying slightly and the filled data performing slightly better."
      ]
    },
    {
      "cell_type": "code",
      "metadata": {
        "id": "W8c2JXCSctHT",
        "colab_type": "code",
        "outputId": "aa47f0ff-a62b-42b9-8ceb-3590e8603f26",
        "colab": {
          "base_uri": "https://localhost:8080/",
          "height": 297
        }
      },
      "source": [
        "import numpy as np\n",
        "n_groups = 3\n",
        "non_filled_performances = (dtree_f1score, lr_f1score, svm_f1score)\n",
        "filled_performances = (dtree_filled_f1score, lr_filled_f1score, svm_filled_f1score)\n",
        "fig, ax = plt.subplots()\n",
        "index = np.arange(n_groups)\n",
        "bar_width = 0.35\n",
        "opacity = 0.8\n",
        "\n",
        "rects1 = plt.bar(index, non_filled_performances, bar_width,\n",
        "alpha=opacity,\n",
        "color='b',\n",
        "label='Non Filled')\n",
        "\n",
        "rects2 = plt.bar(index + bar_width, filled_performances, bar_width,\n",
        "alpha=opacity,\n",
        "color='g',\n",
        "label='Filled')\n",
        "\n",
        "plt.xlabel('Models')\n",
        "plt.ylabel('F1-Score')\n",
        "plt.title('F1 Score by Model')\n",
        "plt.xticks(index + bar_width, ('Decision Trees', 'Linear Regression', 'SVM'))\n",
        "plt.legend()\n",
        "\n",
        "plt.tight_layout()\n",
        "plt.show()\n"
      ],
      "execution_count": 0,
      "outputs": [
        {
          "output_type": "display_data",
          "data": {
            "image/png": "[encoded data removed]",
            "text/plain": [
              "<Figure size 432x288 with 1 Axes>"
            ]
          },
          "metadata": {
            "tags": []
          }
        }
      ]
    },
    {
      "cell_type": "markdown",
      "metadata": {
        "id": "DPoii1PeeMOU",
        "colab_type": "text"
      },
      "source": [
        "##### 2.2.4.4 Recall"
      ]
    },
    {
      "cell_type": "markdown",
      "metadata": {
        "id": "hH8J-I9IeWWz",
        "colab_type": "text"
      },
      "source": [
        "All the three models have the same recall and the value of recall is also the same regardless of the data being filled or non filled which was used for training."
      ]
    },
    {
      "cell_type": "code",
      "metadata": {
        "id": "JF3nyERgeWf8",
        "colab_type": "code",
        "outputId": "47e3c3f4-51fe-44a3-e992-c969d4fc54d3",
        "colab": {
          "base_uri": "https://localhost:8080/",
          "height": 297
        }
      },
      "source": [
        "import numpy as np\n",
        "n_groups = 3\n",
        "non_filled_performances = (dtree_recall, lr_recall, svm_recall)\n",
        "filled_performances = (dtree_filled_recall, lr_filled_recall, svm_filled_recall)\n",
        "fig, ax = plt.subplots()\n",
        "index = np.arange(n_groups)\n",
        "bar_width = 0.35\n",
        "opacity = 0.8\n",
        "\n",
        "rects1 = plt.bar(index, non_filled_performances, bar_width,\n",
        "alpha=opacity,\n",
        "color='b',\n",
        "label='Non Filled')\n",
        "\n",
        "rects2 = plt.bar(index + bar_width, filled_performances, bar_width,\n",
        "alpha=opacity,\n",
        "color='g',\n",
        "label='Filled')\n",
        "\n",
        "plt.xlabel('Models')\n",
        "plt.ylabel('Recall')\n",
        "plt.title('Recall by Model')\n",
        "plt.xticks(index + bar_width, ('Decision Trees', 'Linear Regression', 'SVM'))\n",
        "plt.legend()\n",
        "\n",
        "plt.tight_layout()\n",
        "plt.show()\n"
      ],
      "execution_count": 0,
      "outputs": [
        {
          "output_type": "display_data",
          "data": {
            "image/png": "[encoded data removed]",
            "text/plain": [
              "<Figure size 432x288 with 1 Axes>"
            ]
          },
          "metadata": {
            "tags": []
          }
        }
      ]
    },
    {
      "cell_type": "markdown",
      "metadata": {
        "id": "kr4xrGFsfWKG",
        "colab_type": "text"
      },
      "source": [
        "### 2.3 Clustering Models"
      ]
    },
    {
      "cell_type": "markdown",
      "metadata": {
        "id": "HTQipFncfr92",
        "colab_type": "text"
      },
      "source": [
        "This is the last problem we try to solve where we try to discover some associations among the apps with similar ratings. This area falls under the category of unsupervised learning where we use algorithms like k-means to discover patterns in the data. In this part, we first use the k-means algorithm to see if there is any pattern which occurs in all in highly rated or lowly rated apps. If any useful information is discovered, we can then use it to guide the developers build better apps.\n",
        "\n",
        "After doing some data cleaning, the data ends up having 19 columns. Since plotting a graph with 19 axes will be almost impossible to comprehend, we perform dimension reduction here. We reduce the dimensions from 19 to 2 using pricipal component analysis (PCA). After reducing the dataset to just one attribute which should have the properties of all the 19 attributes, we perform the KMeans algorithm.\n",
        "\n",
        "KMeans algorithm works by looking at the nearest neighbors and then based on the neighbors, it assigns a class to the points. When we create a KMeans object in Scikit learn, we are asked to specify the number of clusters we want the algorithm to find. Since we have 5 ratings, we choose 5 for the number of clusters. We then plot the results obtained from Kmeans and the algorithm clearly finds 5 different classes. Due to the PCA, we lost a lot of information and it is hard to comprehend the results now to infer on what particular attribute(s), the KMeans algorithm saperated the data, although we can still see that 5 clear categories exist in the data."
      ]
    },
    {
      "cell_type": "code",
      "metadata": {
        "id": "6ZUXG3Q8hZD4",
        "colab_type": "code",
        "outputId": "d215d3ef-b26b-42d1-d81d-ea4c5b02306e",
        "colab": {
          "base_uri": "https://localhost:8080/",
          "height": 459
        }
      },
      "source": [
        "kmeans_data=data_X = data.drop(['URL', 'ID', 'Icon URL', 'In-app Purchases', 'Description', 'Developer', 'Age Rating', 'Languages', 'Genres', 'Original Release Date', 'Current Version Release Date', 'Name'], axis=1)\n",
        "kmeans_data_Y = kmeans_data['Average User Rating']\n",
        "kmeans_data_X = pd.concat([kmeans_data.get(['User Rating Count','Price','Size', 'Average User Rating']),\n",
        "                           pd.get_dummies(kmeans_data['Primary Genre'], prefix='Primary Genre')],axis=1)\n",
        "print(kmeans_data_X.info())"
      ],
      "execution_count": 0,
      "outputs": [
        {
          "output_type": "stream",
          "text": [
            "<class 'pandas.core.frame.DataFrame'>\n",
            "Int64Index: 4618 entries, 5 to 16932\n",
            "Data columns (total 20 columns):\n",
            "User Rating Count                  4618 non-null float64\n",
            "Price                              4618 non-null float64\n",
            "Size                               4618 non-null float64\n",
            "Average User Rating                4618 non-null float64\n",
            "Primary Genre_Book                 4618 non-null uint8\n",
            "Primary Genre_Business             4618 non-null uint8\n",
            "Primary Genre_Education            4618 non-null uint8\n",
            "Primary Genre_Entertainment        4618 non-null uint8\n",
            "Primary Genre_Finance              4618 non-null uint8\n",
            "Primary Genre_Games                4618 non-null uint8\n",
            "Primary Genre_Health & Fitness     4618 non-null uint8\n",
            "Primary Genre_Lifestyle            4618 non-null uint8\n",
            "Primary Genre_Medical              4618 non-null uint8\n",
            "Primary Genre_News                 4618 non-null uint8\n",
            "Primary Genre_Productivity         4618 non-null uint8\n",
            "Primary Genre_Reference            4618 non-null uint8\n",
            "Primary Genre_Social Networking    4618 non-null uint8\n",
            "Primary Genre_Sports               4618 non-null uint8\n",
            "Primary Genre_Travel               4618 non-null uint8\n",
            "Primary Genre_Utilities            4618 non-null uint8\n",
            "dtypes: float64(4), uint8(16)\n",
            "memory usage: 252.5 KB\n",
            "None\n"
          ],
          "name": "stdout"
        }
      ]
    },
    {
      "cell_type": "code",
      "metadata": {
        "id": "3NSMr99kgty3",
        "colab_type": "code",
        "colab": {}
      },
      "source": [
        "from sklearn.decomposition import PCA\n",
        "pca = PCA(n_components=2).fit(kmeans_data_X)\n",
        "pca_2d = pca.transform(kmeans_data_X)"
      ],
      "execution_count": 0,
      "outputs": []
    },
    {
      "cell_type": "code",
      "metadata": {
        "id": "R1_yWUygnkUt",
        "colab_type": "code",
        "outputId": "fcde580f-180e-4038-b4c0-6734e5e9276b",
        "colab": {
          "base_uri": "https://localhost:8080/",
          "height": 278
        }
      },
      "source": [
        "import pylab as pl\n",
        "from sklearn.cluster import KMeans\n",
        "kmeans = KMeans(n_clusters=5, random_state=111)\n",
        "kmeans.fit(kmeans_data_X)\n",
        "pl.figure('K-means with 5 clusters')\n",
        "pl.scatter(pca_2d[:, 0], pca_2d[:, 1], c=kmeans.labels_)\n",
        "#pl.plot(pca_2d[:, 0], pca_2d[:, 1])\n",
        "pl.show()"
      ],
      "execution_count": 0,
      "outputs": [
        {
          "output_type": "display_data",
          "data": {
            "image/png": "[encoded data removed]",
            "text/plain": [
              "<Figure size 432x288 with 1 Axes>"
            ]
          },
          "metadata": {
            "tags": []
          }
        }
      ]
    },
    {
      "cell_type": "markdown",
      "metadata": {
        "id": "s2vg3wk_43Y_",
        "colab_type": "text"
      },
      "source": [
        "### 2.4 Logisitic Regression Coefficients Study"
      ]
    },
    {
      "cell_type": "markdown",
      "metadata": {
        "id": "5FD2M5v05U_E",
        "colab_type": "text"
      },
      "source": [
        "Using logistic regression, we train models which can use the given features to predict the values of a given feature. Logistic Regression models are first trained over a given dataset using an algorithm like gradient descent. Gradient Descent finds coefficients for each of the given features. These features can then be rated using the coefficients which were obtained by training the logistic regression model. The coefficients of the features which are larger in magnitude contribute more to the overall prediction of a given attribute and the features with it's coefficient which are smaller contribute much lesser. We can thus compare the importance of various features by comparing the magnitudes of the coefficients of the features. It is important to use just the magnitude of the coefficient and not it's value while rating. We are more concerned with the value of the coefficient since the sign only tells us if a change in the coefficient will increase or decrease the value of the variable to be predicted but the magnitude tells us by how much the predicted variable will be affected."
      ]
    },
    {
      "cell_type": "markdown",
      "metadata": {
        "id": "J7iPrWLq-ac6",
        "colab_type": "text"
      },
      "source": [
        "Another important thing to keep in mind while doing a logistic regression coefficients study is that the various features should have values which are comparable. In our study, not all the features are comparable but as a part of the study, we ignore this for now and try to compare the results for the two different cases of data, one where the rows having null values are removed and one where the rows with null entries are replaced by non null entries."
      ]
    },
    {
      "cell_type": "code",
      "metadata": {
        "id": "uSYmaI2n8UKa",
        "colab_type": "code",
        "colab": {}
      },
      "source": [
        "data_Y = data['Average User Rating']\n",
        "data_X = data.drop(['Average User Rating', 'URL', 'ID', 'Icon URL', 'In-app Purchases', 'Description', 'Developer', 'Age Rating', 'Languages', 'Genres', 'Original Release Date', 'Current Version Release Date', 'Name'], axis=1)"
      ],
      "execution_count": 0,
      "outputs": []
    },
    {
      "cell_type": "code",
      "metadata": {
        "id": "BfCbU43V8ZBV",
        "colab_type": "code",
        "colab": {}
      },
      "source": [
        "data_Y_filled = data_filled['Average User Rating']\n",
        "data_X_filled = data_filled.drop(['Average User Rating', 'URL', 'ID', 'Icon URL', 'In-app Purchases', 'Description', 'Developer', 'Age Rating', 'Languages', 'Genres', 'Original Release Date', 'Current Version Release Date', 'Name'], axis=1)"
      ],
      "execution_count": 0,
      "outputs": []
    },
    {
      "cell_type": "code",
      "metadata": {
        "id": "veas0txE8eBh",
        "colab_type": "code",
        "colab": {}
      },
      "source": [
        "# convert Primary Genre from object to One hot encoded values\n",
        "data_X = pd.concat([data_X.get(['User Rating Count','Price','Size']),\n",
        "                           pd.get_dummies(data_X['Primary Genre'], prefix='Primary Genre')],axis=1)"
      ],
      "execution_count": 0,
      "outputs": []
    },
    {
      "cell_type": "code",
      "metadata": {
        "id": "GT8LwzPn8hSd",
        "colab_type": "code",
        "colab": {}
      },
      "source": [
        "# convert Primary Genre from object to One hot encoded values\n",
        "data_X_filled = pd.concat([data_X_filled.get(['User Rating Count','Price','Size']),\n",
        "                           pd.get_dummies(data_X_filled['Primary Genre'], prefix='Primary Genre')],axis=1)"
      ],
      "execution_count": 0,
      "outputs": []
    },
    {
      "cell_type": "code",
      "metadata": {
        "id": "EFVz4ble8jPx",
        "colab_type": "code",
        "colab": {}
      },
      "source": [
        "from sklearn.model_selection import train_test_split\n",
        "X_train, X_test, y_train, y_test = train_test_split(data_X, data_Y, test_size=0.25, random_state=42)\n",
        "\n",
        "X_train_filled, X_test_filled, y_train_filled, y_test_filled = train_test_split(data_X_filled, data_Y_filled, test_size=0.25, random_state=42)"
      ],
      "execution_count": 0,
      "outputs": []
    },
    {
      "cell_type": "code",
      "metadata": {
        "id": "oRpO3p9Z7lL0",
        "colab_type": "code",
        "colab": {}
      },
      "source": [
        "from sklearn.linear_model import LinearRegression\n",
        "reg1 = LinearRegression().fit(X_train, y_train)\n",
        "reg1 = reg1.fit(X_train, y_train)\n",
        "predictions = reg1.predict(X_test)\n",
        "\n",
        "reg2 = LinearRegression().fit(X_train_filled, y_train_filled)\n",
        "reg = reg2.fit(X_train_filled, y_train_filled)\n",
        "predictions = reg2.predict(X_test_filled)"
      ],
      "execution_count": 0,
      "outputs": []
    },
    {
      "cell_type": "code",
      "metadata": {
        "id": "MUdEMt-Z82t_",
        "colab_type": "code",
        "colab": {}
      },
      "source": [
        "coefficients1 = pd.DataFrame({\"Feature\":X_train.columns,\"Coefficients\":np.transpose(reg1.coef_)})\n",
        "coefficients2 = pd.DataFrame({\"Feature\":X_train_filled.columns,\"Coefficients\":np.transpose(reg2.coef_)})"
      ],
      "execution_count": 0,
      "outputs": []
    },
    {
      "cell_type": "code",
      "metadata": {
        "id": "TP6ta3v89JgZ",
        "colab_type": "code",
        "outputId": "43c3b190-1aa5-4b0f-c923-73e4f5c5935b",
        "colab": {
          "base_uri": "https://localhost:8080/",
          "height": 782
        }
      },
      "source": [
        "coefficients1['Coefficients'] = coefficients1['Coefficients'].abs()\n",
        "coefficients2['Coefficients'] = coefficients2['Coefficients'].abs()\n",
        "\n",
        "print(coefficients1.sort_values(by='Coefficients', ascending=False))\n",
        "print(coefficients2.sort_values(by='Coefficients', ascending=False))"
      ],
      "execution_count": 0,
      "outputs": [
        {
          "output_type": "stream",
          "text": [
            "                            Feature  Coefficients\n",
            "4            Primary Genre_Business  1.737528e+00\n",
            "14          Primary Genre_Reference  9.154556e-01\n",
            "12               Primary Genre_News  7.678795e-01\n",
            "9    Primary Genre_Health & Fitness  7.653980e-01\n",
            "11            Primary Genre_Medical  7.271944e-01\n",
            "3                Primary Genre_Book  5.207128e-01\n",
            "18          Primary Genre_Utilities  4.679596e-01\n",
            "16             Primary Genre_Sports  4.496027e-01\n",
            "13       Primary Genre_Productivity  4.448510e-01\n",
            "8               Primary Genre_Games  4.240188e-01\n",
            "6       Primary Genre_Entertainment  2.507832e-01\n",
            "7             Primary Genre_Finance  1.876829e-01\n",
            "5           Primary Genre_Education  2.412887e-02\n",
            "10          Primary Genre_Lifestyle  1.512036e-02\n",
            "1                             Price  3.670129e-04\n",
            "0                 User Rating Count  4.127325e-07\n",
            "2                              Size  7.219988e-11\n",
            "15  Primary Genre_Social Networking  5.551115e-17\n",
            "17             Primary Genre_Travel  0.000000e+00\n",
            "                            Feature  Coefficients\n",
            "12            Primary Genre_Medical  9.806566e-01\n",
            "13              Primary Genre_Music  5.193945e-01\n",
            "18           Primary Genre_Shopping  5.143912e-01\n",
            "16       Primary Genre_Productivity  4.563223e-01\n",
            "11          Primary Genre_Lifestyle  4.419385e-01\n",
            "17          Primary Genre_Reference  4.016032e-01\n",
            "8        Primary Genre_Food & Drink  3.882489e-01\n",
            "15               Primary Genre_News  3.045958e-01\n",
            "10   Primary Genre_Health & Fitness  2.638285e-01\n",
            "19  Primary Genre_Social Networking  2.083377e-01\n",
            "3                Primary Genre_Book  2.059313e-01\n",
            "4            Primary Genre_Business  1.144210e-01\n",
            "20             Primary Genre_Sports  1.064627e-01\n",
            "5           Primary Genre_Education  8.441018e-02\n",
            "23          Primary Genre_Utilities  7.915835e-02\n",
            "9               Primary Genre_Games  6.872335e-02\n",
            "14         Primary Genre_Navigation  5.856403e-02\n",
            "6       Primary Genre_Entertainment  3.135615e-02\n",
            "21           Primary Genre_Stickers  2.910509e-02\n",
            "7             Primary Genre_Finance  1.182173e-02\n",
            "1                             Price  9.217988e-05\n",
            "0                 User Rating Count  4.890458e-07\n",
            "2                              Size  1.216566e-10\n",
            "22             Primary Genre_Travel  0.000000e+00\n"
          ],
          "name": "stdout"
        }
      ]
    },
    {
      "cell_type": "markdown",
      "metadata": {
        "id": "N-ES7H5b-XAE",
        "colab_type": "text"
      },
      "source": [
        "As we can see, we're getting quite different results for the 2 different datasets. The top 3 attributes for both the datasets are different. For the data with null entries removed, the top 3 attributes are:\n",
        "\n",
        "\n",
        "\n",
        "1.   Primary_Genre_Business\n",
        "2.   Primary_Genre_Reference\n",
        "3.   Primary_Genre_News\n",
        "\n",
        "The top 3 attributes for rows with null entries replaced by non null entries are \n",
        "\n",
        "\n",
        "\n",
        "1.   Primary_Genre_Medical\n",
        "2.   Primary_Genre_Music\n",
        "3.   Primary_Genre_Shopping\n",
        "\n",
        "What stays consistent though is that the top attributes in both the datasets are coming from the genre category. After Genre, the next most important feature in both the datasets is Price, which means that Price contributes quite a lot to predicting the average rating of an app. This is an interesting learning since this means that the single most important attribute after the genre to which the app belongs to which contributes the most to the rating of an app is the price.\n",
        "\n",
        "\n",
        "\n"
      ]
    },
    {
      "cell_type": "markdown",
      "metadata": {
        "id": "KAU1C6n8mZu1",
        "colab_type": "text"
      },
      "source": [
        "## Sources"
      ]
    },
    {
      "cell_type": "markdown",
      "metadata": {
        "id": "gQVS1O3EmcHj",
        "colab_type": "text"
      },
      "source": [
        "1. https://www.businessofapps.com/data/app-revenues/\n",
        "\n",
        "2. https://www.kaggle.com/tristan581/17k-apple-app-store-strategy-games"
      ]
    },
    {
      "cell_type": "code",
      "metadata": {
        "id": "HleZoXy-jDzd",
        "colab_type": "code",
        "colab": {}
      },
      "source": [
        ""
      ],
      "execution_count": 0,
      "outputs": []
    }
  ]
}